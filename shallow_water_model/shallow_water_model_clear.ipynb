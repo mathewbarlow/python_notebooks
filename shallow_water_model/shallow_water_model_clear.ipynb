{
 "cells": [
  {
   "cell_type": "markdown",
   "id": "6a0a4742",
   "metadata": {},
   "source": [
    "# Shallow Water Model, With Experiments"
   ]
  },
  {
   "cell_type": "markdown",
   "id": "74d8fcd1",
   "metadata": {},
   "source": [
    "### 1. Introduction"
   ]
  },
  {
   "cell_type": "markdown",
   "id": "3f369baa",
   "metadata": {},
   "source": [
    "This python notebook solves the non-linear shallow water equations on a Cartesian beta plane in a channel, with several different options for model set-up to illustrate a range of meteorological phenomenona.\n",
    "\n",
    "The code and experiment set was originally programed in MATLAB by Robin Hogan and translated to python by Paul Connolly. It was hacked roughly into notebook form by Matt Barlow, with a few additional features added, ignoring all principles of robust coding. If you have any questions, find any bugs, or develop any improvements please email Mathew_Barlow@uml.edu.  \n",
    "\n",
    "A separate pdf file, swe_notes.pdf, further describes the different intial conditions and configurations.\n",
    "\n",
    "Possible initial conditions of the height field include:\n",
    "\n",
    "    UNIFORM_WESTERLY\n",
    "    ZONAL_JET\n",
    "    REANALYSIS (requires reanalysis.mat file)\n",
    "    GAUSSIAN_BLOB\n",
    "    GAUSSIAN_LOW\n",
    "    STEP\n",
    "    CYCLONE_IN_WESTERLY\n",
    "    SHARP_SHEAR\n",
    "    EQUATORIAL_EASTERLY\n",
    "    SINUSOIDAL\n",
    "\n",
    "Possible configurations of the orography include:\n",
    "\n",
    "    FLAT\n",
    "    SLOPE\n",
    "    GAUSSIAN_MOUNTAIN\n",
    "    EARTH_OROGRAPHY (requires digital_elevation_map.mat file)\n",
    "    SEA_MOUNT\n",
    "\n",
    "An option is provided to add random noise and the values of f0 and beta can be set. The initial wind field can be set to geostrophic or at rest (no winds). A second version of the model that runs from user-specified initial conditons also may be used.\n",
    "\n",
    "Functions are provided to make plots and animations of the model output.\n",
    "\n",
    "The model and plotting code is contained in Sections 2 and 3. These sections need to be run first, although they do not need to be changed for the different experiments. Information on how to run the model and an example run is provided in Section 4. Information and examples on plotting are provided in Section 5. Section 6 runs through some of the possible experiments and Section 7 gives some examples of setting your own initial conditions."
   ]
  },
  {
   "cell_type": "markdown",
   "id": "6ea106eb-4fd4-47a7-a004-4f20c71a8e59",
   "metadata": {},
   "source": [
    "Initial beta release of notebook on 13 Oct 2023.\n",
    "\n",
    "Support from NSF AGS-1623912, NSF AGS-1657921, and NOAA MAPP NA20OAR4310424 is gratefully acknowledged."
   ]
  },
  {
   "cell_type": "markdown",
   "id": "757b4418",
   "metadata": {
    "tags": []
   },
   "source": [
    "### 2. Set up and define model"
   ]
  },
  {
   "cell_type": "code",
   "execution_count": null,
   "id": "72f353f6-7ca2-462d-a36d-1f8e6f83350a",
   "metadata": {},
   "outputs": [],
   "source": [
    "# copyrights and links for Robin and Paul\n",
    "\n",
    "# Copyright (c) 2014 by Robin Hogan\n",
    "#\n",
    "# Copying and distribution of this file, with or without modification,\n",
    "# are permitted in any medium without royalty provided the copyright\n",
    "# notice and this notice are preserved.  This file is offered as-is,\n",
    "# without any warranty.\n",
    "\n",
    "# http://www.met.reading.ac.uk/~swrhgnrj/shallow_water_model/\n",
    "\n",
    "# Copyright (c) 2017 by Paul Connolly\n",
    "#\n",
    "# Copying and distribution of this file, with or without modification,\n",
    "# are permitted in any medium without royalty provided the copyright\n",
    "# notice and this notice are preserved.  This file is offered as-is,\n",
    "# without any warranty.\n",
    "\n",
    "# https://personalpages.manchester.ac.uk/staff/paul.connolly/teaching/practicals/shallow_water_equations.html"
   ]
  },
  {
   "cell_type": "code",
   "execution_count": null,
   "id": "ef25793e",
   "metadata": {},
   "outputs": [],
   "source": [
    "# import needed packages\n",
    "\n",
    "import numpy as np\n",
    "import sys\n",
    "import time\n",
    "import scipy.io as sio\n",
    "from IPython.display import HTML\n",
    "import matplotlib.pyplot as plt\n",
    "import matplotlib.animation as animation\n",
    "import matplotlib.pyplot as plt\n",
    "from mpl_toolkits.axes_grid1 import make_axes_locatable\n",
    "import os\n",
    "import imageio\n",
    "from scipy.interpolate import RegularGridInterpolator"
   ]
  },
  {
   "cell_type": "code",
   "execution_count": null,
   "id": "a0c8012e",
   "metadata": {},
   "outputs": [],
   "source": [
    "# define Lax-Wendroff time-stepping scheme\n",
    "\n",
    "def lax_wendroff(dx, dy, dt, g, u, v, h, u_tendency, v_tendency):\n",
    "\n",
    "   # This function performs one timestep of the Lax-Wendroff scheme\n",
    "   # applied to the shallow water equations\n",
    "\n",
    "   # First work out mid-point values in time and space\n",
    "   uh = u*h;\n",
    "   vh = v*h;\n",
    "\n",
    "   h_mid_xt = 0.5*(h[1:,:]+h[0:-1,:]) \\\n",
    "      -(0.5*dt/dx)*(uh[1:,:]-uh[0:-1,:]);\n",
    "   h_mid_yt = 0.5*(h[:,1:]+h[:,0:-1]) \\\n",
    "      -(0.5*dt/dy)*(vh[:,1:]-vh[:,0:-1]);\n",
    "\n",
    "   Ux = uh*u+0.5*g*h**2.;\n",
    "   Uy = uh*v;\n",
    "   uh_mid_xt = 0.5*(uh[1:,:]+uh[0:-1,:]) \\\n",
    "      -(0.5*dt/dx)*(Ux[1:,:]-Ux[0:-1,:]);\n",
    "   uh_mid_yt = 0.5*(uh[:,1:]+uh[:,0:-1]) \\\n",
    "      -(0.5*dt/dy)*(Uy[:,1:]-Uy[:,0:-1]);\n",
    "\n",
    "   Vx = Uy;\n",
    "   Vy = vh*v+0.5*g*h**2.;\n",
    "   vh_mid_xt = 0.5*(vh[1:,:]+vh[0:-1,:]) \\\n",
    "      -(0.5*dt/dx)*(Vx[1:,:]-Vx[0:-1,:]);\n",
    "   vh_mid_yt = 0.5*(vh[:,1:]+vh[:,0:-1]) \\\n",
    "      -(0.5*dt/dy)*(Vy[:,1:]-Vy[:,0:-1]);\n",
    "\n",
    "   # Now use the mid-point values to predict the values at the next\n",
    "   # timestep\n",
    "   h_new = h[1:-1,1:-1] \\\n",
    "      - (dt/dx)*(uh_mid_xt[1:,1:-1]-uh_mid_xt[0:-1,1:-1]) \\\n",
    "      - (dt/dy)*(vh_mid_yt[1:-1,1:]-vh_mid_yt[1:-1,0:-1]);\n",
    "\n",
    "\n",
    "   Ux_mid_xt = uh_mid_xt*uh_mid_xt/h_mid_xt + 0.5*g*h_mid_xt**2.;\n",
    "   Uy_mid_yt = uh_mid_yt*vh_mid_yt/h_mid_yt;\n",
    "   uh_new = uh[1:-1,1:-1] \\\n",
    "      - (dt/dx)*(Ux_mid_xt[1:,1:-1]-Ux_mid_xt[0:-1,1:-1]) \\\n",
    "      - (dt/dy)*(Uy_mid_yt[1:-1,1:]-Uy_mid_yt[1:-1,0:-1]) \\\n",
    "      + dt*u_tendency*0.5*(h[1:-1,1:-1]+h_new);\n",
    "\n",
    "\n",
    "   Vx_mid_xt = uh_mid_xt*vh_mid_xt/h_mid_xt;\n",
    "   Vy_mid_yt = vh_mid_yt*vh_mid_yt/h_mid_yt + 0.5*g*h_mid_yt**2.;\n",
    "   vh_new = vh[1:-1,1:-1] \\\n",
    "      - (dt/dx)*(Vx_mid_xt[1:,1:-1]-Vx_mid_xt[0:-1,1:-1]) \\\n",
    "      - (dt/dy)*(Vy_mid_yt[1:-1,1:]-Vy_mid_yt[1:-1,0:-1]) \\\n",
    "      + dt*v_tendency*0.5*(h[1:-1,1:-1]+h_new);\n",
    "   u_new = uh_new/h_new;\n",
    "   v_new = vh_new/h_new;\n",
    "   \n",
    "   return (u_new, v_new, h_new)\n"
   ]
  },
  {
   "cell_type": "code",
   "execution_count": null,
   "id": "c2cf18ba",
   "metadata": {},
   "outputs": [],
   "source": [
    "# defintions, set-up and heart of the model code\n",
    "\n",
    "# some definitions \n",
    "\n",
    "# Possible initial conditions of the height field\n",
    "UNIFORM_WESTERLY=1\n",
    "ZONAL_JET=2\n",
    "REANALYSIS=3\n",
    "GAUSSIAN_BLOB=4\n",
    "STEP=5\n",
    "CYCLONE_IN_WESTERLY=6\n",
    "SHARP_SHEAR=7\n",
    "EQUATORIAL_EASTERLY=8\n",
    "SINUSOIDAL=9\n",
    "GAUSSIAN_LOW=10\n",
    "\n",
    "# Possible orographies\n",
    "FLAT=0\n",
    "SLOPE=1\n",
    "GAUSSIAN_MOUNTAIN=2\n",
    "EARTH_OROGRAPHY=3\n",
    "SEA_MOUNT=4\n",
    "\n",
    "\n",
    "# define function to run model\n",
    "# output variables are: u_save, v_save, h_save, t_save, H, X, and Y\n",
    "\n",
    "def run_model(orography = FLAT, \n",
    "              initial_conditions = ZONAL_JET,\n",
    "              initially_geostrophic = True,\n",
    "              add_random_height_noise = True,\n",
    "              g = 9.81,\n",
    "              f0 = 1e-4,\n",
    "              beta = 1.6e-11,\n",
    "              dt_mins = 1.,\n",
    "              output_interval_mins = 60.,\n",
    "              forecast_length_days = 4.,\n",
    "              nx = 254,\n",
    "              ny = 50, \n",
    "              dx = 111.86e3,\n",
    "              dy = 100.00e3):\n",
    "\n",
    "    # g: Acceleration due to gravity (m/s2)\n",
    "    # f0: Coriolis parameter const. (s-1), default at 45N\n",
    "    # beta: Meridional gradient of f (s-1m-1), default at 45N\n",
    "    # omega: angular velocity of Earth (s-1)\n",
    "    # re: radius of Earth (m)\n",
    "\n",
    "    # dt_mins: timestep (minutes)\n",
    "    # output_interval_mins: time between outputs (minutes)\n",
    "    # forecast_length_days: total simulation length (days)\n",
    "    \n",
    "    # nx: number of zonal gridpoints\n",
    "    # ny: number of meridional gridpoints\n",
    "    # If you change the number of gridpoints then orography=EARTH_OROGRAPHY\n",
    "    # or initial_conditions=REANALYSIS won't work\n",
    "\n",
    "    # dx: Zonal grid spacing (m)\n",
    "    # dy: Meridional grid spacing (m)\n",
    "    \n",
    "    x=np.mgrid[0:nx]*dx; # Zonal distance coordinate (m)\n",
    "    y=np.mgrid[0:ny]*dy; # Meridional distance coordinate (m)\n",
    "    y = y - np.mean(y) # y=0 in the middle of its domain\n",
    "                   # interpretation of y=0 is determined by choice of f0 and beta\n",
    "    [Y,X] = np.meshgrid(y,x); # Create matrices of the coordinate variables\n",
    "\n",
    "    \n",
    "    dt = dt_mins*60.0; # Timestep (s)\n",
    "    output_interval = output_interval_mins*60.0; # Time between outputs (s)\n",
    "    forecast_length = forecast_length_days*24.0*3600.0; # Forecast length (s)\n",
    "    nt = int(np.fix(forecast_length/dt)+1); # Number of timesteps\n",
    "    timesteps_between_outputs = np.fix(output_interval/dt);\n",
    "    noutput = int(np.ceil(nt/timesteps_between_outputs)); # Number of output frames\n",
    " \n",
    "    # output, with interval specified by output_interval_mins\n",
    "    u_save = np.zeros((nx, ny, noutput))\n",
    "    v_save = np.zeros((nx, ny, noutput))\n",
    "    h_save = np.zeros((nx, ny, noutput))\n",
    "    t_save = np.zeros((noutput,1))\n",
    "\n",
    "    # SHALLOW WATER MODEL\n",
    "    #\n",
    "    # This model integrates the shallow water equations in conservative form\n",
    "    # in a channel using the Lax-Wendroff method.  It can be used to\n",
    "    # illustrate a number of meteorological phenomena.\n",
    "\n",
    "    # Create the orography field \"H\"\n",
    "    if orography == FLAT:\n",
    "       H = np.zeros((nx, ny));\n",
    "    elif orography == SLOPE:\n",
    "       H = 9000.*2.*np.abs((np.mean(x)-X)/np.max(x));\n",
    "    elif orography == GAUSSIAN_MOUNTAIN:\n",
    "       std_mountain_x = 6.*dx; # Std. dev. of mountain in x direction (m)\n",
    "       std_mountain_y = 6.*dy; # Std. dev. of mountain in y direction (m)\n",
    "       H = 5000.*np.exp(-0.5*((X-np.mean(x))/std_mountain_x)**2. \\\n",
    "                      -0.5*((Y-np.mean(y))/std_mountain_y)**2.);\n",
    "    elif orography == SEA_MOUNT:\n",
    "       std_mountain = 40.0*dy; # Standard deviation of mountain (m)\n",
    "       H = 9250.*np.exp(-((X-np.mean(x))**2.+(Y-0.5*np.mean(y))**2.)/(2.*std_mountain**2.));\n",
    "    elif orography == EARTH_OROGRAPHY:\n",
    "       mat_contents = sio.loadmat('digital_elevation_map.mat')\n",
    "       H = mat_contents['elevation'];\n",
    "       # Enforce periodic boundary conditions in x\n",
    "       H[0, :] = H[-2, :]\n",
    "       H[-1, :] = H[1, :]\n",
    "#       H[[0, -1],:]=H[[-2, 1],:];\n",
    "        \n",
    "    else:\n",
    "       print('Don''t know what to do with orography=' + np.num2str(orography)); \n",
    "       sys.exit()\n",
    "\n",
    "\n",
    "    # Coriolis parameter as a matrix of values varying in y only\n",
    "    F = f0+beta*Y # Y is zero in the middle of its range\n",
    "\n",
    "    # Create the initial height field \n",
    "    if initial_conditions == UNIFORM_WESTERLY:\n",
    "       mean_wind_speed = 20.; # m/s\n",
    "    \n",
    "       # note change from original code\n",
    "       height = 10000.-(mean_wind_speed*f0/g)*Y \\\n",
    "                - 0.5*(mean_wind_speed*beta/g)*Y**2\n",
    "\n",
    "    elif initial_conditions == SINUSOIDAL:\n",
    "       height = 10000.-350.*np.sin(Y/(np.max(y))*2.0*np.pi);\n",
    "    elif initial_conditions == EQUATORIAL_EASTERLY:\n",
    "       height = 10000. - 50.*np.cos(Y*2*np.pi/np.max(y))\n",
    "    elif initial_conditions == ZONAL_JET:\n",
    "       height = 10000. - np.tanh(20.0*((Y-np.mean(y))/np.max(y)))*400.;\n",
    "    elif initial_conditions == REANALYSIS:\n",
    "       mat_contents = sio.loadmat('reanalysis.mat')\n",
    "       pressure = mat_contents['pressure'];\n",
    "       height = 0.99*pressure/g;\n",
    "    elif initial_conditions == GAUSSIAN_BLOB:\n",
    "       std_blob = 8.0*dy; # Standard deviation of blob (m)\n",
    "       height = 9750. + 1000.*np.exp(-((X-0.25*np.mean(x))**2.+(Y-np.mean(y))**2.)/(2.* \\\n",
    "                                                         std_blob**2.));\n",
    "    elif initial_conditions == GAUSSIAN_LOW:\n",
    "       std_blob = 8.0*dy; # Standard deviation of blob (m)\n",
    "       height = 9750. - 1000.*np.exp(-((X-np.mean(x))**2.+(Y-np.mean(y))**2.)/(2.* \\\n",
    "                                                         std_blob**2.));\n",
    "    elif initial_conditions == STEP:\n",
    "       height = 9750.*np.ones((nx, ny));\n",
    "       height[np.where((X<np.max(x)/5.) & (Y>np.max(y)/10.) & (Y<np.max(y)*0.9))] = 10500.;\n",
    "    elif initial_conditions == CYCLONE_IN_WESTERLY:\n",
    "       mean_wind_speed = 25.; # m/s\n",
    "       std_blob = 7.0*dy; # Standard deviation of blob (m)\n",
    "       height = 10000.-(mean_wind_speed*f0/g)*(Y-np.mean(y)) \\\n",
    "           - 0.5*(mean_wind_speed*beta/g)*Y**2 \\\n",
    "           - 500.*np.exp(-((X-0.5*np.mean(x))**2.+(Y-np.mean(y))**2.)/(2.*std_blob**2.));\n",
    "       max_wind_speed = 20.; # m/s\n",
    "    #   height = 10250.-(max_wind_speed*f/g)*(Y-np.mean(y))**2./np.max(y) \\\n",
    "    #       - 1000.*np.exp(-(0.25*(X-1.5*np.mean(x))**2.+(Y-0.5*np.mean(y))**2.)/(2.*std_blob**2.));\n",
    "    elif initial_conditions == SHARP_SHEAR:\n",
    "       mean_wind_speed = 50.; # m/s\n",
    "       height = (mean_wind_speed*f0/g)*np.abs(Y-np.mean(y));\n",
    "       height = 10000.+height-np.mean(height[:]);\n",
    "    else:\n",
    "       print(\"Don't know what to do with initial_conditions=%f\" % initial_conditions); \n",
    "       sys.exit()\n",
    "\n",
    "\n",
    "\n",
    "    # Initialize the wind to rest\n",
    "    u=np.zeros((nx, ny));\n",
    "    v=np.zeros((nx, ny));\n",
    "\n",
    "    # We may need to add small-amplitude random noise in order to initialize \n",
    "    # instability\n",
    "    if add_random_height_noise:\n",
    "       r,c=np.shape(height)\n",
    "       height = height + 1.0*np.random.randn(r,c)*(dx/1.0e5)*(np.abs(F)/1e-4);\n",
    "\n",
    "\n",
    "    if initially_geostrophic:\n",
    "\n",
    "       # Centred spatial differences to compute geostrophic wind\n",
    "       u[:,1:-1] = -(0.5*g/(F[:,1:-1]*dy)) \\\n",
    "           * (height[:,2:]-height[:,0:-2]);\n",
    "        \n",
    "       # added to original\n",
    "       u[:, 0] = (u[:, 1] + u[:, 2])/2\n",
    "       u[:, -1] = (u[:, -2] + u[:, -3])/2\n",
    "        \n",
    "       v[1:-1,:] = (0.5*g/(F[1:-1,:]*dx)) \\\n",
    "           * (height[2:,:]-height[0:-2,:]);\n",
    "       # Zonal wind is periodic so set u(1) and u(end) as dummy points that\n",
    "       # replicate u(end-1) and u(2), respectively\n",
    "       u[[0 ,-1],:] = u[[1 ,-2],:];\n",
    "    \n",
    "       # Meridional wind must be zero at the north and south edges of the\n",
    "       # channel \n",
    "       v[:,[0, -1]] = 0.;\n",
    "\n",
    "       # Don't allow the initial wind speed to exceed 200 m/s anywhere\n",
    "       max_wind = 200.;\n",
    "       u[np.where(u>max_wind)] = max_wind;\n",
    "       u[np.where(u<-max_wind)] = -max_wind;\n",
    "       v[np.where(v>max_wind)] = max_wind;\n",
    "       v[np.where(v<-max_wind)] = -max_wind;\n",
    "\n",
    "    # Define h as the depth of the fluid (whereas \"height\" is the height of\n",
    "    # the upper surface)\n",
    "    h = height - H;\n",
    "\n",
    "    print(\"Max Hours: \", str(forecast_length_days*24))\n",
    "    print(\"forecasting hour: \", end=\" \")\n",
    "\n",
    "    # Index to stored data\n",
    "    i_save = 0;\n",
    "\n",
    "    # ------------------------------------------------------------------\n",
    "    # SECTION 3: Main loop\n",
    "    for n in range(0,nt):\n",
    "       # Every fixed number of timesteps we store the fields\n",
    "       if np.mod(n,timesteps_between_outputs) == 0:\n",
    "\n",
    "          max_u = np.sqrt(np.max(u[:]*u[:]+v[:]*v[:]));\n",
    "\n",
    "          hour = n*dt/3600\n",
    "          print(\"%.2f\" % hour, end=\" \")\n",
    "\n",
    "          u_save[:,:,i_save] = u;\n",
    "          v_save[:,:,i_save] = v;\n",
    "          h_save[:,:,i_save] = h;\n",
    "          t_save[i_save] = (n)*dt;\n",
    "          i_save = i_save+1;\n",
    "\n",
    "\n",
    "       # Compute the accelerations\n",
    "       u_accel = F[1:-1,1:-1]*v[1:-1,1:-1] \\\n",
    "                  - (g/(2.*dx))*(H[2:,1:-1]-H[0:-2,1:-1]);\n",
    "       v_accel = -F[1:-1,1:-1]*u[1:-1,1:-1] \\\n",
    "                  - (g/(2.*dy))*(H[1:-1,2:]-H[1:-1,0:-2]);\n",
    "\n",
    "       # Call the Lax-Wendroff scheme to move forward one timestep\n",
    "       (unew, vnew, h_new) = lax_wendroff(dx, dy, dt, g, u, v, h, u_accel, v_accel);\n",
    "\n",
    "       # Update the wind and height fields, taking care to enforce \n",
    "       # boundary conditions \n",
    "    \n",
    "       # did a little bug-fixing here\n",
    "        \n",
    "       u[1:-1,1:-1] = unew;\n",
    "       v[1:-1,1:-1] = vnew;\n",
    "\n",
    "       # first x-slice\n",
    "       u[0,1:-1]=unew[-1,:]\n",
    "       u[0,0]=unew[-1,0]\n",
    "       u[0,-1]=unew[-1,-1]\n",
    "       v[0,1:-1]=vnew[-1,:]\n",
    "       v[0,0]=vnew[-1,0]\n",
    "       v[0,-1]=vnew[-1,-1]\n",
    "       # last x-slice\n",
    "       u[-1,1:-1]=unew[0,:]\n",
    "       u[-1,0]=unew[0,0]\n",
    "       u[-1,-1]=unew[0,-1]\n",
    "       v[-1,1:-1]=vnew[0,:]\n",
    "       v[-1,0]=vnew[0,0]\n",
    "       v[-1,-1]=vnew[0,-1]\n",
    "\n",
    "       # no flux from north / south\n",
    "       v[:,[0,-1]]=0.;\n",
    "       # interior\n",
    "       h[1:-1,1:-1] = h_new;\n",
    "       # first x-slice\n",
    "       h[0,1:-1]=h_new[-1,:]\n",
    "       # last x-slice\n",
    "       h[-1,1:-1]=h_new[0,:]\n",
    "        \n",
    "    return(u_save, v_save, h_save, t_save, H, x, y)\n",
    "\n"
   ]
  },
  {
   "cell_type": "code",
   "execution_count": null,
   "id": "dfd347f5-2797-4277-aa95-923e3d5b95f2",
   "metadata": {
    "tags": []
   },
   "outputs": [],
   "source": [
    "# version of the model that takes initial conditions of h, u, v as input\n",
    "\n",
    "nx = 254\n",
    "ny = 50\n",
    "        \n",
    "u0 = np.zeros((nx, ny))\n",
    "v0 = np.zeros((nx, ny))\n",
    "h0 = np.zeros((nx, ny))\n",
    "topo = np.zeros((nx, ny))\n",
    "\n",
    "# define function to run model\n",
    "\n",
    "def run_model_ic(u_ic = u0,\n",
    "                 v_ic = v0,\n",
    "                 h_ic = h0,\n",
    "                 orog = topo,\n",
    "                 add_random_height_noise = True,\n",
    "                 g = 9.81,\n",
    "                 f0 = 1e-4,\n",
    "                 beta = 1.6e-11,\n",
    "                 dt_mins = 1.,\n",
    "                 output_interval_mins = 60.,\n",
    "                 forecast_length_days = 4.,\n",
    "                 nx = 254,\n",
    "                 ny = 50, \n",
    "                 dx = 111.86e3,\n",
    "                 dy = 100.00e3):\n",
    "    \n",
    "    x=np.mgrid[0:nx]*dx; # Zonal distance coordinate (m)\n",
    "    y=np.mgrid[0:ny]*dy; # Meridional distance coordinate (m)\n",
    "    y = y - np.mean(y) # y=0 in the middle of its domain\n",
    "                   # interpretation of y=0 is determined by choice of f0 and beta\n",
    "    [Y,X] = np.meshgrid(y,x); # Create matrices of the coordinate variables\n",
    "    \n",
    "    dt = dt_mins*60.0; # Timestep (s)\n",
    "    output_interval = output_interval_mins*60.0; # Time between outputs (s)\n",
    "    forecast_length = forecast_length_days*24.0*3600.0; # Forecast length (s)\n",
    "    nt = int(np.fix(forecast_length/dt)+1); # Number of timesteps\n",
    "    timesteps_between_outputs = np.fix(output_interval/dt);\n",
    "    noutput = int(np.ceil(nt/timesteps_between_outputs)); # Number of output frames\n",
    "    \n",
    "    u_save = np.zeros((nx, ny, noutput))\n",
    "    v_save = np.zeros((nx, ny, noutput))\n",
    "    h_save = np.zeros((nx, ny, noutput))\n",
    "    t_save = np.zeros((noutput,1))\n",
    "\n",
    "    H = orog\n",
    "    # Enforce periodic boundary conditions in x\n",
    "    H[0, :] = H[-2, :]\n",
    "    H[-1, :] = H[1, :]\n",
    "\n",
    "    # Coriolis parameter as a matrix of values varying in y only\n",
    "    F = f0+beta*Y # Y is zero in the middle of its range\n",
    "\n",
    "    # Create the initial height field \n",
    "    height = h_ic\n",
    "\n",
    "    # Initialize the wind \n",
    "    u = u_ic\n",
    "    v = v_ic\n",
    "\n",
    "    # We may need to add small-amplitude random noise in order to initialize \n",
    "    # instability\n",
    "    if add_random_height_noise:\n",
    "       r,c=np.shape(height)\n",
    "       height = height + 1.0*np.random.randn(r,c)*(dx/1.0e5)*(np.abs(F)/1e-4);\n",
    "\n",
    "        \n",
    "    u[:, 0] = (u[:, 1] + u[:, 2])/2\n",
    "    u[:, -1] = (u[:, -2] + u[:, -3])/2\n",
    "        \n",
    "\n",
    "    # Zonal wind is periodic so set u(1) and u(end) as dummy points that\n",
    "    # replicate u(end-1) and u(2), respectively\n",
    "    u[[0 ,-1],:] = u[[1 ,-2],:];\n",
    "    \n",
    "    # Meridional wind must be zero at the north and south edges of the\n",
    "    # channel \n",
    "    v[:,[0, -1]] = 0.;\n",
    "\n",
    "    # Don't allow the initial wind speed to exceed 200 m/s anywhere\n",
    "    max_wind = 200.;\n",
    "    u[np.where(u>max_wind)] = max_wind;\n",
    "    u[np.where(u<-max_wind)] = -max_wind;\n",
    "    v[np.where(v>max_wind)] = max_wind;\n",
    "    v[np.where(v<-max_wind)] = -max_wind;\n",
    "\n",
    "    # Define h as the depth of the fluid (whereas \"height\" is the height of\n",
    "    # the upper surface)\n",
    "    h = height - H;\n",
    "\n",
    "    mhour = forecast_length_days*24\n",
    "    print(\"Max Hours: \", \"%.2f\" % mhour)\n",
    "    print(\"forecasting hour: \", end=\" \")\n",
    "\n",
    "    # Index to stored data\n",
    "    i_save = 0;\n",
    "\n",
    "    # ------------------------------------------------------------------\n",
    "    # SECTION 3: Main loop\n",
    "    for n in range(0,nt):\n",
    "       # Every fixed number of timesteps we store the fields\n",
    "       if np.mod(n,timesteps_between_outputs) == 0:\n",
    "\n",
    "          max_u = np.sqrt(np.max(u[:]*u[:]+v[:]*v[:]));\n",
    "\n",
    "          hour = n*dt/3600\n",
    "          print(\"%.2f\" % hour, end=\" \")\n",
    "\n",
    "          u_save[:,:,i_save] = u;\n",
    "          v_save[:,:,i_save] = v;\n",
    "          h_save[:,:,i_save] = h;\n",
    "          t_save[i_save] = (n)*dt;\n",
    "          i_save = i_save+1;\n",
    "\n",
    "\n",
    "       # Compute the accelerations\n",
    "       u_accel = F[1:-1,1:-1]*v[1:-1,1:-1] \\\n",
    "                  - (g/(2.*dx))*(H[2:,1:-1]-H[0:-2,1:-1]);\n",
    "       v_accel = -F[1:-1,1:-1]*u[1:-1,1:-1] \\\n",
    "                  - (g/(2.*dy))*(H[1:-1,2:]-H[1:-1,0:-2]);\n",
    "\n",
    "       # Call the Lax-Wendroff scheme to move forward one timestep\n",
    "       (unew, vnew, h_new) = lax_wendroff(dx, dy, dt, g, u, v, h, u_accel, v_accel);\n",
    "\n",
    "       # Update the wind and height fields, taking care to enforce \n",
    "       # boundary conditions \n",
    "    \n",
    "       # did a little bug-fixing here\n",
    "        \n",
    "       u[1:-1,1:-1] = unew;\n",
    "       v[1:-1,1:-1] = vnew;\n",
    "\n",
    "       # first x-slice\n",
    "       u[0,1:-1]=unew[-1,:]\n",
    "       u[0,0]=unew[-1,0]\n",
    "       u[0,-1]=unew[-1,-1]\n",
    "       v[0,1:-1]=vnew[-1,:]\n",
    "       v[0,0]=vnew[-1,0]\n",
    "       v[0,-1]=vnew[-1,-1]\n",
    "       # last x-slice\n",
    "       u[-1,1:-1]=unew[0,:]\n",
    "       u[-1,0]=unew[0,0]\n",
    "       u[-1,-1]=unew[0,-1]\n",
    "       v[-1,1:-1]=vnew[0,:]\n",
    "       v[-1,0]=vnew[0,0]\n",
    "       v[-1,-1]=vnew[0,-1]\n",
    "\n",
    "       # no flux from north / south\n",
    "       v[:,[0,-1]]=0.;\n",
    "       # interior\n",
    "       h[1:-1,1:-1] = h_new;\n",
    "       # first x-slice\n",
    "       h[0,1:-1]=h_new[-1,:]\n",
    "       # last x-slice\n",
    "       h[-1,1:-1]=h_new[0,:]\n",
    "        \n",
    "       # play nicer at N/S boundaries\n",
    "       u[:, 0] = (u[:, 1] + u[:, 2])/2\n",
    "       u[:, -1] = (u[:, -2] + u[:, -3])/2\n",
    "    \n",
    "    orog[:] = H[:]\n",
    "        \n",
    "    return(u_save, v_save, h_save, t_save, H, x, y)\n",
    "\n"
   ]
  },
  {
   "cell_type": "code",
   "execution_count": null,
   "id": "20d46537-6868-4d35-be10-5b2d5066cf0b",
   "metadata": {
    "tags": []
   },
   "outputs": [],
   "source": [
    "# make a very hacky linear version of the model\n",
    "\n",
    "# version of the model that takes initial conditions of h, u, v as input\n",
    "\n",
    "# Initialize the 3D arrays where the output data will be stored\n",
    "u0 = np.zeros((nx, ny))\n",
    "v0 = np.zeros((nx, ny))\n",
    "h0 = np.zeros((nx, ny))\n",
    "topo = np.zeros((nx, ny))\n",
    "\n",
    "# define function to run model\n",
    "\n",
    "def run_linear_model_ic(u_ic = u0,\n",
    "                 v_ic = v0,\n",
    "                 h_ic = h0,\n",
    "                 orog = topo,\n",
    "                 add_random_height_noise = True,\n",
    "                 g = 9.81,\n",
    "                 f0 = 1e-4,\n",
    "                 beta = 1.6e-11,\n",
    "                 dt_mins = 1.,\n",
    "                 output_interval_mins = 60.,\n",
    "                 forecast_length_days = 4.,\n",
    "                 nx = 254,\n",
    "                 ny = 50, \n",
    "                 dx = 111.86e3,\n",
    "                 dy = 100.00e3):\n",
    "    \n",
    "    dt = dt_mins*60.0; # Timestep (s)\n",
    "    output_interval = output_interval_mins*60.0; # Time between outputs (s)\n",
    "    forecast_length = forecast_length_days*24.0*3600.0; # Forecast length (s)\n",
    "    nt = int(np.fix(forecast_length/dt)+1); # Number of timesteps\n",
    "    timesteps_between_outputs = int(np.fix(output_interval/dt));\n",
    "    noutput = int(np.ceil(nt/timesteps_between_outputs)); # Number of output frames\n",
    "    \n",
    "    u_save = np.zeros((nx, ny, noutput))\n",
    "    v_save = np.zeros((nx, ny, noutput))\n",
    "    h_save = np.zeros((nx, ny, noutput))\n",
    "    t_save = np.zeros((noutput,1))\n",
    "    \n",
    "\n",
    "    H = orog\n",
    "    # Enforce periodic boundary conditions in x\n",
    "    H[0, :] = H[-2, :]\n",
    "    H[-1, :] = H[1, :]\n",
    "\n",
    "    # Coriolis parameter as a matrix of values varying in y only\n",
    "    F = f0+beta*Y # Y is zero in the middle of its range\n",
    "\n",
    "    # Create the initial height field \n",
    "    height = h_ic\n",
    "\n",
    "    # Initialize the wind \n",
    "    u = u_ic\n",
    "    v = v_ic\n",
    "\n",
    "    # We may need to add small-amplitude random noise in order to initialize \n",
    "    # instability\n",
    "    if add_random_height_noise:\n",
    "       r,c=np.shape(height)\n",
    "       height = height + 1.0*np.random.randn(r,c)*(dx/1.0e5)*(np.abs(F)/1e-4);\n",
    "\n",
    "        \n",
    "    u[:, 0] = (u[:, 1] + u[:, 2])/2\n",
    "    u[:, -1] = (u[:, -2] + u[:, -3])/2\n",
    "        \n",
    "\n",
    "    # Zonal wind is periodic so set u(1) and u(end) as dummy points that\n",
    "    # replicate u(end-1) and u(2), respectively\n",
    "    u[[0 ,-1],:] = u[[1 ,-2],:];\n",
    "    \n",
    "    # Meridional wind must be zero at the north and south edges of the\n",
    "    # channel \n",
    "    v[:,[0, -1]] = 0.;\n",
    "\n",
    "    # Don't allow the initial wind speed to exceed 200 m/s anywhere\n",
    "    max_wind = 200.;\n",
    "    u[np.where(u>max_wind)] = max_wind;\n",
    "    u[np.where(u<-max_wind)] = -max_wind;\n",
    "    v[np.where(v>max_wind)] = max_wind;\n",
    "    v[np.where(v<-max_wind)] = -max_wind;\n",
    "\n",
    "    # Define h as the depth of the fluid (whereas \"height\" is the height of\n",
    "    # the upper surface)\n",
    "    h = height - H;\n",
    "\n",
    "    print(\"Max Hours: \", str(forecast_length_days*24),\n",
    "          \"forecasting hour: \", end=\" \")\n",
    "\n",
    "    # Index to stored data\n",
    "    i_save = 0;\n",
    "\n",
    "    # ------------------------------------------------------------------\n",
    "    # SECTION 3: Main loop\n",
    "    for n in range(0,nt):\n",
    "       # Every fixed number of timesteps we store the fields\n",
    "       if np.mod(n,timesteps_between_outputs) == 0:\n",
    "\n",
    "          max_u = np.sqrt(np.max(u[:]*u[:]+v[:]*v[:]));\n",
    "\n",
    "          hour = n*dt/3600\n",
    "          print(str(hour), end=\" \")\n",
    "\n",
    "          u_save[:,:,i_save] = u;\n",
    "          v_save[:,:,i_save] = v;\n",
    "          h_save[:,:,i_save] = h;\n",
    "          t_save[i_save] = (n)*dt;\n",
    "          i_save = i_save+1;\n",
    "\n",
    "\n",
    "       # Compute the accelerations\n",
    "       u_accel = F[1:-1,1:-1]*v[1:-1,1:-1] \\\n",
    "                  - (g/(2.*dx))*(H[2:,1:-1]-H[0:-2,1:-1]);\n",
    "       v_accel = -F[1:-1,1:-1]*u[1:-1,1:-1] \\\n",
    "                  - (g/(2.*dy))*(H[1:-1,2:]-H[1:-1,0:-2]);\n",
    "\n",
    "       # Call the Lax-Wendroff scheme to move forward one timestep\n",
    "       (unew, vnew, h_new) = lax_wendroff(dx, dy, dt, g, u, v, h, u_accel, v_accel);\n",
    "\n",
    "       # Update the wind and height fields, taking care to enforce \n",
    "       # boundary conditions \n",
    "    \n",
    "       # not sure how to easily leave advection out of the Lax-Wendroff scheme,\n",
    "       # so we'll just calculate it and remove it, knowing that this will only\n",
    "       # approximately remove it\n",
    "        \n",
    "       um = (u[1:-1,1:-1]+unew)/2\n",
    "       vm = (v[1:-1,1:-1]+vnew)/2   \n",
    "       hm = (h[1:-1,1:-1]+h_new)/2\n",
    "    \n",
    "       uadvec = -um*(np.roll(um, -1, 0)-np.roll(um, 1, 0))/(2*dx) + \\\n",
    "                -vm*(np.roll(um, -1, 1)-np.roll(um, 1, 1))/(2*dy)\n",
    "       vadvec = -um*(np.roll(vm, -1, 0)-np.roll(vm, 1, 0))/(2*dx) + \\\n",
    "                -vm*(np.roll(vm, -1, 1)-np.roll(vm, 1, 1))/(2*dy)\n",
    "       hadvec = -um*(np.roll(hm, -1, 0)-np.roll(hm, 1, 0))/(2*dx) + \\\n",
    "                -vm*(np.roll(hm, -1, 1)-np.roll(hm, 1, 1))/(2*dy)\n",
    "        \n",
    "       u[1:-1,1:-1] = unew - uadvec*dt\n",
    "       v[1:-1,1:-1] = vnew - vadvec*dt\n",
    "\n",
    "       # first x-slice\n",
    "       u[0,1:-1]=unew[-1,:]\n",
    "       u[0,0]=unew[-1,0]\n",
    "       u[0,-1]=unew[-1,-1]\n",
    "       v[0,1:-1]=vnew[-1,:]\n",
    "       v[0,0]=vnew[-1,0]\n",
    "       v[0,-1]=vnew[-1,-1]\n",
    "       # last x-slice\n",
    "       u[-1,1:-1]=unew[0,:]\n",
    "       u[-1,0]=unew[0,0]\n",
    "       u[-1,-1]=unew[0,-1]\n",
    "       v[-1,1:-1]=vnew[0,:]\n",
    "       v[-1,0]=vnew[0,0]\n",
    "       v[-1,-1]=vnew[0,-1]\n",
    "\n",
    "       # no flux from north / south\n",
    "       v[:,[0,-1]]=0.;\n",
    "       # interior\n",
    "       h[1:-1,1:-1] = h_new - hadvec*dt\n",
    "       # first x-slice\n",
    "       h[0,1:-1]=h_new[-1,:]\n",
    "       # last x-slice\n",
    "       h[-1,1:-1]=h_new[0,:]\n",
    "        \n",
    "       # play nicer at N/S boundaries\n",
    "       u[:, 0] = (u[:, 1] + u[:, 2])/2\n",
    "       u[:, -1] = (u[:, -2] + u[:, -3])/2\n",
    "    \n",
    "    orog[:] = H[:]\n",
    "        \n",
    "    return(u_save, v_save, h_save, t_save, H, x, y)\n",
    "\n"
   ]
  },
  {
   "cell_type": "markdown",
   "id": "8412f268-b947-477d-9ec1-abd5aa8a99a6",
   "metadata": {},
   "source": [
    "### 3. Set up plotting routines"
   ]
  },
  {
   "cell_type": "code",
   "execution_count": null,
   "id": "8fde7b65",
   "metadata": {},
   "outputs": [],
   "source": [
    "%matplotlib inline\n",
    "\n",
    "def make_plot(out = 0, \n",
    "              show = 1,\n",
    "              h1 = 9500, h2 = 10500, scale=75, vort1 = -3E-4, vort2 = 3E-4):\n",
    "\n",
    "  it = out\n",
    "  \n",
    "  orog = np.copy(H)\n",
    "\n",
    "  dy = y[1] - y[0]\n",
    "  dx = x[1] - x[0]\n",
    "\n",
    "   # Extract the height and velocity components for this frame\n",
    "  h = np.squeeze(h_save[:, :, it])\n",
    "  u = np.squeeze(u_save[:, :, it])\n",
    "  v = np.squeeze(v_save[:, :, it])\n",
    "\n",
    "   # Compute the vorticity\n",
    "  vorticity = np.zeros_like(u)\n",
    "  vorticity[1:-1, 1:-1] = (1./dy)*(u[1:-1, 0:-2] - u[1:-1, 2:]) \\\n",
    "     + (1./dx)*(v[2:, 1:-1] - v[0:-2, 1:-1])\n",
    "\n",
    "  fig, axs = plt.subplots(nrows=2, ncols=1, figsize=(10, 5))\n",
    "\n",
    "  plt.tight_layout(pad=4)\n",
    "\n",
    "  clevs_h = np.arange(h1, h2+10, 10)\n",
    "  clevs_oro = np.arange(0, 10, 1)\n",
    "\n",
    "  cf = axs[0].contourf(x/1e6, y/1e6, (h+orog).T/1e3, clevs_h/1e3, cmap='RdBu_r',\n",
    "                       extend='both')\n",
    "\n",
    "  axs[0].contour(x/1e6, y/1e6, (orog).T/1e3, clevs_oro,\n",
    "                 colors='black', linewidths=0.5, alpha=0.75)\n",
    "\n",
    "  hr = str(int(t_save[it][0]/(60*60))).zfill(3)\n",
    "  axs[0].set_title('Height (km)', loc='left')\n",
    "  axs[0].set_title('Time: '+ hr +' hours', loc='right')\n",
    "  axs[0].set_xlabel('X Distance (1000s of km)', fontdict={'style': 'italic'})\n",
    "  axs[0].set_ylabel('Y Distance \\n(1000s of km)', fontdict={'style': 'italic'})\n",
    "  ytick = np.floor(np.amax(y/1e6))\n",
    "  xtick = np.floor(np.amax(x/1e6)/5)\n",
    "  axs[0].yaxis.set_ticks(np.arange(-ytick, ytick+(ytick/2), ytick/2))\n",
    "  axs[0].xaxis.set_ticks(np.arange(0, np.amax(x/1e6), xtick))\n",
    "  axs[0].set_aspect('equal')\n",
    "\n",
    "  divider = make_axes_locatable(axs[0])\n",
    "  cax = divider.append_axes('right', size='2%', pad=0.2)\n",
    "  hint = (h2 - h1)/4\n",
    "  fig.colorbar(cf, cax=cax, orientation='vertical',\n",
    "               ticks=np.arange(h1/1e3, (h2+hint)/1e3, hint/1e3))\n",
    "\n",
    "  interval = 5\n",
    "  axs[0].quiver(x[2::interval]/1e6,y[2::interval]/1e6, \\\n",
    "         np.transpose(u[2::interval,2::interval]), \\\n",
    "         np.transpose(v[2::interval,2::interval]),\n",
    "                scale=scale, scale_units='xy', pivot='mid',\n",
    "                width=1e-3, headwidth=10, headlength=10, zorder=9)\n",
    "\n",
    "  vint = (vort2 - vort1)/60\n",
    "  clevs_vort = np.arange(vort1, vort2+vint, vint)\n",
    "\n",
    "  cf = axs[1].contourf(x/1e6, y/1e6, vorticity.T, clevs_vort, cmap='RdBu_r',\n",
    "                       extend='both')\n",
    "  axs[1].set_title('Relative Vorticity (1/s)', loc='left')\n",
    "  axs[1].set_title('Time: '+ hr +' hours', loc='right')\n",
    "  axs[1].set_xlabel('X Distance (1000s of km)', fontdict={'style': 'italic'})\n",
    "  axs[1].set_ylabel('Y Distance \\n(1000s of km)', fontdict={'style': 'italic'})\n",
    "  axs[1].yaxis.set_ticks(np.arange(-ytick, ytick+(ytick/2), ytick/2))\n",
    "  axs[1].xaxis.set_ticks(np.arange(0, np.amax(x/1e6), xtick))\n",
    "  axs[1].set_aspect('equal')\n",
    "\n",
    "  divider2 = make_axes_locatable(axs[1])\n",
    "  cax2 = divider2.append_axes('right', size='2%', pad=0.2)\n",
    "  vint = (vort2 - vort1)/4\n",
    "  # some black magic to improve the formating of the ticks\n",
    "  vticks = np.arange(vort1*0.99999, (vort2+vint)*0.99999, vint)\n",
    "  vticks[np.abs(vticks)<1e-8]=0\n",
    "  cbar = fig.colorbar(cf, cax=cax2, orientation='vertical',\n",
    "               ticks=vticks, format='%.1e')\n",
    "\n",
    "  if show == 1:\n",
    "      plt.show()\n",
    "\n",
    "  return()"
   ]
  },
  {
   "cell_type": "code",
   "execution_count": null,
   "id": "7b2f4f6e",
   "metadata": {},
   "outputs": [],
   "source": [
    "def make_inline_animation(h1 = 9500, h2 = 10500, scale=75, vort1 = -3E-4, vort2 = 3E-4):\n",
    "    print('this make take a few minutes')\n",
    "    # animate the output\n",
    "    \n",
    "    noutput = np.shape(h_save)[2]\n",
    "\n",
    "    frames = []\n",
    "    orog = np.copy(H)   \n",
    "    dy = y[1] - y[0]\n",
    "    dx = x[1] - x[0]\n",
    "\n",
    "    fig, axs = plt.subplots(nrows=2, ncols=1, figsize=(8, 5))\n",
    "\n",
    "    clevs = np.arange(9500, 10500+10, 10)\n",
    "\n",
    "    def animate(frame):\n",
    "\n",
    "\n",
    "      axs[0].clear()\n",
    "      axs[1].clear()\n",
    "    #  cax.cla()\n",
    "    #  cax2.cla()\n",
    "    #  plt.cla()\n",
    "\n",
    "\n",
    "      it = frame\n",
    "\n",
    "       # Extract the height and velocity components for this frame\n",
    "      h = np.squeeze(h_save[:, :, it])\n",
    "      u = np.squeeze(u_save[:, :, it])\n",
    "      v = np.squeeze(v_save[:, :, it])\n",
    "\n",
    "       # Compute the vorticity\n",
    "      vorticity = np.zeros_like(u)\n",
    "      vorticity[1:-1, 1:-1] = (1./dy)*(u[1:-1, 0:-2] - u[1:-1, 2:]) \\\n",
    "         + (1./dx)*(v[2:, 1:-1] - v[0:-2, 1:-1])\n",
    "\n",
    "#      plt.tight_layout(pad=4)\n",
    "\n",
    "      divider = make_axes_locatable(axs[0])\n",
    "      cax = divider.append_axes('right', size='2%', pad=0.2)\n",
    "\n",
    "      divider2 = make_axes_locatable(axs[1])\n",
    "      cax2 = divider2.append_axes('right', '2%', '2%')\n",
    "\n",
    "      clevs_h = np.arange(h1, h2+10, 10)\n",
    "      clevs_oro = np.arange(0, 10, 1)\n",
    "\n",
    "      cf = axs[0].contourf(x/1e6, y/1e6, (h+orog).T/1e3, clevs_h/1e3, cmap='RdBu_r',\n",
    "                           extend='both')\n",
    "\n",
    "      axs[0].contour(x/1e6, y/1e6, (orog).T/1e3, clevs_oro, colors='black', linewidths=0.5, alpha=0.75)\n",
    "    \n",
    "      hr = str(int(t_save[it][0]/(60*60))).zfill(3)\n",
    "      axs[0].set_title('Height (km)' + ' '*66 + 'Time: '+ hr +' hours', pad=0.1)\n",
    "      axs[0].set_xlabel('X Distance (1000s of km)', fontdict={'style': 'italic'})\n",
    "      axs[0].set_ylabel('Y Distance \\n(1000s of km)', fontdict={'style': 'italic'})\n",
    "      ytick = np.floor(np.amax(y/1e6))\n",
    "      xtick = np.floor(np.amax(x/1e6)/5)\n",
    "      axs[0].yaxis.set_ticks(np.arange(-ytick, ytick+(ytick/2), ytick/2))\n",
    "      axs[0].xaxis.set_ticks(np.arange(0, np.amax(x/1e6), xtick))\n",
    "      axs[0].set_aspect('equal')\n",
    "\n",
    "\n",
    "      fig.colorbar(cf, cax=cax, orientation='vertical',\n",
    "                   ticks=np.arange(h1/1e3, (h2+250)/1e3, 250/1e3))\n",
    "\n",
    "      interval = 5\n",
    "      xplot = x[2::interval]/1e6\n",
    "      yplot = y[2::interval]/1e6\n",
    "      uplot = np.transpose(u[2::interval,2::interval])\n",
    "      vplot = np.transpose(v[2::interval,2::interval])\n",
    "      axs[0].quiver(xplot, yplot, uplot, vplot,\n",
    "                    scale=scale, scale_units='xy', pivot='mid',\n",
    "                    width=1e-3, headwidth=10, headlength=10, zorder=9)\n",
    "\n",
    "      clevs_vort = np.arange(vort1, vort2+1e-5, 1e-5)\n",
    "\n",
    "      cf = axs[1].contourf(x/1e6, y/1e6, vorticity.T, clevs_vort, cmap='RdBu_r',\n",
    "                           extend='both')\n",
    "      axs[1].set_title('Relative Vorticity (1/s)'+ ' '*51 + 'Time: '+ hr +' hours', pad=0.1)\n",
    "      axs[1].set_xlabel('X Distance (1000s of km)', fontdict={'style': 'italic'})\n",
    "      axs[1].set_ylabel('Y Distance \\n(1000s of km)', fontdict={'style': 'italic'})\n",
    "      axs[1].yaxis.set_ticks(np.arange(-ytick, ytick+(ytick/2), ytick/2))\n",
    "      axs[1].xaxis.set_ticks(np.arange(0, np.amax(x/1e6), xtick))\n",
    "      axs[1].set_aspect('equal')\n",
    "\n",
    "\n",
    "      fig.colorbar(cf, cax=cax2, orientation='vertical',\n",
    "                   ticks=np.arange(vort1, vort2+2E-4, 2E-4))\n",
    "\n",
    "\n",
    "\n",
    "      return(axs)\n",
    "\n",
    "    anim = animation.FuncAnimation(fig, animate, frames=np.arange(0, noutput),\n",
    "                                   blit=False);\n",
    "\n",
    "    plt.close();\n",
    "\n",
    "    display(HTML(anim.to_jshtml()))\n",
    "    \n",
    "    return"
   ]
  },
  {
   "cell_type": "code",
   "execution_count": null,
   "id": "f5f71ee0-2df7-4603-9ae6-240f153a6996",
   "metadata": {},
   "outputs": [],
   "source": [
    "def save_inline_animation():\n",
    "    \n",
    "    writervideo = animation.FFMpegWriter(fps=30)\n",
    "    anim.save('temp.mp4', writer=writervideo)\n",
    "    \n",
    "    return"
   ]
  },
  {
   "cell_type": "code",
   "execution_count": null,
   "id": "ceec15ac-e268-4753-a688-f7cfdaa43397",
   "metadata": {
    "tags": []
   },
   "outputs": [],
   "source": [
    "# make the animation as a file to be viewed seperately\n",
    "\n",
    "def make_animation_file(outfile='temp.gif', \n",
    "                        h1 = 9500, h2 = 10500, scale=75, vort1 = -3E-4, vort2 = 3E-4,\n",
    "                        duration=50):\n",
    "    \n",
    "    print('this may take a minute')\n",
    "    \n",
    "    noutput = np.shape(h_save)[2]\n",
    "    orog = np.copy(H)   \n",
    "    dy = y[1] - y[0]\n",
    "    dx = x[1] - x[0]\n",
    "    \n",
    "    plt.ioff()\n",
    "\n",
    "# save individual images\n",
    "    filenames = []\n",
    "    for ic in np.arange(noutput):\n",
    "        \n",
    "        make_plot(out=ic, show=0, \n",
    "                  h1 = h1, h2 = h2, scale=scale, vort1 = vort1, vort2 = vort2)\n",
    "        file = 'temp'+str(ic).zfill(4)+'.png'\n",
    "        plt.savefig(file, bbox_inches='tight')\n",
    "        plt.close()\n",
    "        filenames.append(file)\n",
    "\n",
    "# read in all images\n",
    "    images = []\n",
    "    for file in filenames:\n",
    "        im = imageio.v2.imread(file)\n",
    "        images.append(im)\n",
    "        \n",
    "    imageio.mimsave(outfile, images, loop=1, duration=duration)\n",
    "    \n",
    "# remove the individual images\n",
    "    for file in filenames:\n",
    "        os.remove(file)\n",
    "\n",
    "    plt.ion()\n",
    "    \n",
    "    return"
   ]
  },
  {
   "cell_type": "markdown",
   "id": "278409ac-4b9f-4ddd-a39b-391ce740f086",
   "metadata": {},
   "source": [
    "### 4. How to run the model"
   ]
  },
  {
   "cell_type": "markdown",
   "id": "2bd6a6b0-e47a-45af-b120-d53ef06251af",
   "metadata": {},
   "source": [
    "Run the model with run_model(), with any parameter values that you want to be  differrent from the default values as the argument. The output variables of the model are height (h_save), u-wind (u_save),  v-wind (v_save), time (t_save), orography (H), x values (x), and y values (y), at the specified output interval.\n",
    "\n",
    "Parameters that can be set include orography, initial_conditions, initially_geostrophic, add_random_height_noise, g, f0, beta, dt_mins, output_interval_mins, and forecast_length_days. For allowable values of the first two, please see the overview section; the second two paremeters have values of True or False; and the values of the last several values can be set to any number (although the time step may have to be adjusted for some values). \n",
    "\n",
    "The default values of the main parameters are set as follows: orography = FLAT, initial_conditions = ZONAL_JET, initially_geostrophic = True, add_random_height_noise = True, g = 9.81, f0 = 1e-4, beta = 1.6e-11, dt_mins = 1., output_interval_mins = 60., forecast_length_days = 4. "
   ]
  },
  {
   "cell_type": "markdown",
   "id": "a81c332b-d1c5-4643-96af-27b21f1a4abd",
   "metadata": {},
   "source": [
    "The mid-point of the y-axis is set as zero. The interpretation of this is determined by the choice of f0 and beta. For example, with the default values, y=0 is 45N; for f0=0 and beta=2.29e-11, y=0 is the equator. "
   ]
  },
  {
   "cell_type": "markdown",
   "id": "0a437534-f9d6-48bf-a63a-aaf854db8fbe",
   "metadata": {},
   "source": [
    "If we are happy with the default values, we can just use 'run_model()'. Otherwise, we can specify some different parameters as arguments, as in the next cell."
   ]
  },
  {
   "cell_type": "code",
   "execution_count": null,
   "id": "896c8ed8-f9b1-40b9-9308-481cc4cec106",
   "metadata": {},
   "outputs": [],
   "source": [
    "(u_save, v_save, h_save, t_save, H, x, y) = run_model(\n",
    "                                            initial_conditions = CYCLONE_IN_WESTERLY,\n",
    "                                            add_random_height_noise = False)"
   ]
  },
  {
   "cell_type": "markdown",
   "id": "2f0aa226-f3e9-49dc-8296-c1559429c057",
   "metadata": {},
   "source": [
    "This experiment simulates an idealized example of a cyclone in a westerly jet. (Note that this model does not include vertical variations, so no baroclinic effects are included.)"
   ]
  },
  {
   "cell_type": "markdown",
   "id": "bc15f193-e381-4305-8b07-f7808fd71143",
   "metadata": {},
   "source": [
    "### 5. How to plot the model output"
   ]
  },
  {
   "cell_type": "markdown",
   "id": "c32909bf-0e84-4129-b7a6-1e242cada699",
   "metadata": {},
   "source": [
    "You can make a plot with any time step of the output using make_plot(out=step), where 'step' is any number from 0 to noutput-1."
   ]
  },
  {
   "cell_type": "markdown",
   "id": "01b32f28-5877-446f-8d2a-21858b7937e4",
   "metadata": {},
   "source": [
    "Let's plot the first output time step."
   ]
  },
  {
   "cell_type": "code",
   "execution_count": null,
   "id": "b6a30971-102b-4a42-be2f-bee12ea9555a",
   "metadata": {},
   "outputs": [],
   "source": [
    "# plot the first output time step\n",
    "make_plot(out=0)"
   ]
  },
  {
   "cell_type": "markdown",
   "id": "cb92e3bb-10a6-4436-8494-2cc0c7013d5c",
   "metadata": {},
   "source": [
    "Before we do any more plotting, it's always a good idea to think through what we expect to happen based on these initial conditions."
   ]
  },
  {
   "cell_type": "markdown",
   "id": "1f568716-9569-4631-9d4e-3ef30b9d0676",
   "metadata": {},
   "source": [
    "Here's the last output time step, does it look as expected?"
   ]
  },
  {
   "cell_type": "code",
   "execution_count": null,
   "id": "1cf98ef3-49a1-4d74-b593-5233c2b3d73a",
   "metadata": {
    "tags": []
   },
   "outputs": [],
   "source": [
    "# plot the last output time step\n",
    "make_plot(out=-1)"
   ]
  },
  {
   "cell_type": "markdown",
   "id": "ba6a4257-8edc-4b30-87a5-d1b19bbd7db3",
   "metadata": {},
   "source": [
    "The plotting function can be called within a loop to span the entire run, or to look at several time steps in more detail. An example is given in the next cell and could be uncommented to run."
   ]
  },
  {
   "cell_type": "code",
   "execution_count": null,
   "id": "ac09efce-ef00-4dc1-92c0-f3155b40d6bf",
   "metadata": {},
   "outputs": [],
   "source": [
    "# plot a few time steps over entire run\n",
    "#for step in np.arange(0, noutput, 48):\n",
    "#    make_plot(out=step)"
   ]
  },
  {
   "cell_type": "markdown",
   "id": "a5c38ee7-f76f-496c-ab26-71140bf8b961",
   "metadata": {},
   "source": [
    "There is a function, make_animation_file(), to save an animation of the results to a file, for separate viewing. This takes about a minute on my laptop. "
   ]
  },
  {
   "cell_type": "code",
   "execution_count": null,
   "id": "f6d94a19-bc14-4007-a781-88174626c9f5",
   "metadata": {
    "tags": []
   },
   "outputs": [],
   "source": [
    "make_animation_file(outfile='cyclone_in_westerly.gif')"
   ]
  },
  {
   "cell_type": "markdown",
   "id": "ed692d6e-b6a5-4370-bc0b-ba31472dbff7",
   "metadata": {},
   "source": [
    "There is also a function to make an inline animation in the notebook, although this renders slowly (3-4 minutes on my laptop) and adds substantially to the size of the notebook."
   ]
  },
  {
   "cell_type": "code",
   "execution_count": null,
   "id": "38599480-f9c9-4985-bdc8-ca6f08da346c",
   "metadata": {
    "tags": []
   },
   "outputs": [],
   "source": [
    "make_inline_animation()"
   ]
  },
  {
   "cell_type": "markdown",
   "id": "0c083dc1-0746-4e97-8ee1-fd99ee814520",
   "metadata": {},
   "source": [
    "Even though only horizontal dynamics are included in this model, a lot of interesting behavior occurs: there's an initial disturbance that propagates rapidly away from the cyclone, the cyclone moves northward as well as eastward, and a wave develops downstream from the cyclone. We may also wonder why there's a ring of negative vorticity around the cyclone and what the circulation would look like if there were a cyclone with only positive vorticity."
   ]
  },
  {
   "cell_type": "markdown",
   "id": "5885db10-f706-4a4d-83ac-eab9fd594d31",
   "metadata": {},
   "source": [
    "**How to interpret the domain**\n",
    "\n",
    "The interpretation of the 'beta-plane' domain is based on the choice of f0 and beta.\n",
    "\n",
    "The default parameters of f0 and beta correspond to y=0 at 45N. f0 and beta are calculated based on a central latitude, as in the next cell."
   ]
  },
  {
   "cell_type": "code",
   "execution_count": null,
   "id": "534eceb0-49e8-4bb0-b7a5-2b34cef74dca",
   "metadata": {
    "tags": []
   },
   "outputs": [],
   "source": [
    "# calculate f0 and beta for a given central latitude\n",
    "\n",
    "phi0 = 45\n",
    "omega = 7.292e-5\n",
    "re = 6.37e6\n",
    "f0 = 2*omega*np.sin(phi0*np.pi/180) \n",
    "beta = 2*omega*np.cos(phi0*np.pi/180)/re\n",
    "\n",
    "print('At a latitude of '+str(phi0)+ ', f0='+str('%.2E' % f0)+' and beta='+str('%.2E' % beta))"
   ]
  },
  {
   "cell_type": "markdown",
   "id": "2da1a4d6-71c2-4832-863d-832dde5ed670",
   "metadata": {},
   "source": [
    "We can also calculate the approximate lat-lon range of our domain based on the same central latitude used to define f and beta."
   ]
  },
  {
   "cell_type": "code",
   "execution_count": null,
   "id": "99ead8fb-6feb-4b6a-9e43-38c46f8d5d33",
   "metadata": {
    "tags": []
   },
   "outputs": [],
   "source": [
    "# calculate latitude range, in degrees\n",
    "\n",
    "phi0 = 45\n",
    "\n",
    "y1 = np.amin(y)\n",
    "y2 = np.amax(y)\n",
    "\n",
    "lat1 = (y1*180/(np.pi*re))\n",
    "lat2 = (y2*180/(np.pi*re))\n",
    "\n",
    "print('latitude range: ' + \"%.1f\" % (lat1+phi0) + ' to ' + \"%.1f\" % (lat2+phi0))\n",
    "\n",
    "# calculate longitude range, in degrees\n",
    "\n",
    "x1 = np.amin(x)\n",
    "x2 = np.amax(x)\n",
    "\n",
    "lon1 = (x1*180/(np.pi*re))/np.cos(phi0*np.pi/180)\n",
    "lon2 = (x2*180/(np.pi*re))/np.cos(phi0*np.pi/180)\n",
    "\n",
    "print('longitude range: ' + \"%.1f\" % (lon1) + ' to ' + \"%.1f\" % (lon2))"
   ]
  },
  {
   "cell_type": "markdown",
   "id": "78e8166a-d511-4ef9-8d5d-e112890da410",
   "metadata": {},
   "source": [
    "### 6. Selected Experiments"
   ]
  },
  {
   "cell_type": "markdown",
   "id": "1272be84-b451-4a6e-9e0e-2531ece53a37",
   "metadata": {},
   "source": [
    "#### 6.1 Gravity Waves"
   ]
  },
  {
   "cell_type": "markdown",
   "id": "92a95568-abbd-4824-90b8-775c01a54e88",
   "metadata": {},
   "source": [
    "Let's run the gravity wave case (with rotation, by default). The inital height field is a Gaussian patch and the initial wind field is at rest. This experiment simulates a gravity wave, with rotation, in the midlatitudes."
   ]
  },
  {
   "cell_type": "code",
   "execution_count": null,
   "id": "53ca1682-0990-4cdc-8c83-849a64a68340",
   "metadata": {},
   "outputs": [],
   "source": [
    "(u_save, v_save, h_save, t_save, H, x, y) = run_model(\n",
    "                                            orography = FLAT,\n",
    "                                            initial_conditions = GAUSSIAN_BLOB,\n",
    "                                            initially_geostrophic = False,\n",
    "                                            add_random_height_noise = False)"
   ]
  },
  {
   "cell_type": "markdown",
   "id": "4ab68be7-2bb1-4bc7-9252-38ac44c3d85a",
   "metadata": {},
   "source": [
    "Let's plot the first output time:"
   ]
  },
  {
   "cell_type": "code",
   "execution_count": null,
   "id": "7b49fd2a-a724-40de-b18d-07267f9e2eee",
   "metadata": {},
   "outputs": [],
   "source": [
    "make_plot(out=0)"
   ]
  },
  {
   "cell_type": "markdown",
   "id": "42e763bf-18be-46c6-841f-dceb8fde8df2",
   "metadata": {
    "tags": []
   },
   "source": [
    "Let's also make a plot at the second output time."
   ]
  },
  {
   "cell_type": "code",
   "execution_count": null,
   "id": "ea3a5e8f-90ce-48ea-bc31-93061285f4e2",
   "metadata": {
    "tags": []
   },
   "outputs": [],
   "source": [
    "make_plot(out=1)"
   ]
  },
  {
   "cell_type": "markdown",
   "id": "b5007199-c065-46d5-a5a4-3dd985defdfe",
   "metadata": {},
   "source": [
    "The wave has already spread out and lost a lot of amplitude in the process, so let's adjust our plotting parameters ..."
   ]
  },
  {
   "cell_type": "code",
   "execution_count": null,
   "id": "765e4de0-ebfa-4e25-aa10-ab46749a7900",
   "metadata": {
    "tags": []
   },
   "outputs": [],
   "source": [
    "make_plot(out=1, h1=9.6e3, h2=10.1e3, vort1=-1e-4, vort2=1e-4, scale=20)"
   ]
  },
  {
   "cell_type": "markdown",
   "id": "582542aa-8a78-4c95-b75e-c04107c597f6",
   "metadata": {},
   "source": [
    "Make animation file:"
   ]
  },
  {
   "cell_type": "code",
   "execution_count": null,
   "id": "be314733-b1f5-4da4-87b7-75b3bd100b04",
   "metadata": {
    "tags": []
   },
   "outputs": [],
   "source": [
    "make_animation_file(outfile='gravity.gif')"
   ]
  },
  {
   "cell_type": "markdown",
   "id": "150d3b56-5e23-4bee-a84a-d5b6f0ab0d79",
   "metadata": {},
   "source": [
    "Make inline animation:"
   ]
  },
  {
   "cell_type": "code",
   "execution_count": null,
   "id": "bb8995f7-aaf1-4d89-8536-9c4d3525ab67",
   "metadata": {},
   "outputs": [],
   "source": [
    "make_inline_animation()"
   ]
  },
  {
   "cell_type": "markdown",
   "id": "dc4c9bb0-da03-46aa-8c88-0fe87cfcf075",
   "metadata": {},
   "source": [
    "To estimate the speed of the disturbance, we can make a longitude-time plot of the height field averaged over all latitudes. We'll focus the contour levels on a narrower range of height values, to better capture the waves after the initial disturbance."
   ]
  },
  {
   "cell_type": "code",
   "execution_count": null,
   "id": "703a754b-63bf-4718-8ae5-e5abafe2eea1",
   "metadata": {},
   "outputs": [],
   "source": [
    "h_mid = np.mean(h_save, axis=1)\n",
    "\n",
    "clevs = np.arange(9.7, 9.82, 0.01)\n",
    "cf = plt.contourf(x/1e6, np.squeeze(t_save)/(60*60), h_mid.T/1e3, clevs, extend='both',\n",
    "                 cmap='magma')\n",
    "plt.colorbar(cf, pad=0.1)\n",
    "plt.xlabel('X Distance (1000s of km)')\n",
    "plt.ylabel('Time (hours)')\n",
    "plt.title('Lon-Time Plot of Lat-Averaged Height (km)')\n",
    "plt.grid(linestyle='dashed', color='white')\n",
    "plt.show()"
   ]
  },
  {
   "cell_type": "markdown",
   "id": "c301d7a0-1b02-4a83-9a4d-d8d1571b7287",
   "metadata": {},
   "source": [
    "Some questions we could think about and explore with the model: What type of wave is criss-crossing the domain? What determines its speed? Why is there almost no vorticity? How would it behave differently if the winds were set to initially geostrophic? If rotation were turned off? Why is there both a (weak) westerward moving wave and an eastward moving wave in the longitude-time plot? Why are the wave amplitudes getting smaller with time?"
   ]
  },
  {
   "cell_type": "markdown",
   "id": "8c99a211-a50b-4361-b372-abb1dca2d6fa",
   "metadata": {},
   "source": [
    "#### 6.2 Tsunami"
   ]
  },
  {
   "cell_type": "markdown",
   "id": "829c3e59-1d56-44ed-8067-0fbd6007d29b",
   "metadata": {},
   "source": [
    "This experiment has the same initial conditions, but now with orography added. This simulates what happens as a tsunami encounters changes in depth. "
   ]
  },
  {
   "cell_type": "code",
   "execution_count": null,
   "id": "8491da9f-cc31-4908-84e7-b72c1a390a01",
   "metadata": {},
   "outputs": [],
   "source": [
    "(u_save, v_save, h_save, t_save, H, x, y) = \\\n",
    "run_model(orography = SEA_MOUNT,\n",
    "          initial_conditions = GAUSSIAN_BLOB,\n",
    "          initially_geostrophic = False,\n",
    "          add_random_height_noise = False)"
   ]
  },
  {
   "cell_type": "markdown",
   "id": "6bb8857b-ae35-4cd6-9647-c7f2110052bc",
   "metadata": {},
   "source": [
    "Plot the first output time (the orography is shown as contours):"
   ]
  },
  {
   "cell_type": "code",
   "execution_count": null,
   "id": "2a2babc6-3204-4e00-98c2-0e06109c9cb5",
   "metadata": {
    "tags": []
   },
   "outputs": [],
   "source": [
    "make_plot(0)"
   ]
  },
  {
   "cell_type": "markdown",
   "id": "2fe346a1-8873-4531-902d-fc96dbccb469",
   "metadata": {},
   "source": [
    "Plot a few steps later, when the eastward moving wave is encountering the orography:"
   ]
  },
  {
   "cell_type": "code",
   "execution_count": null,
   "id": "f0f574d4-420a-4aed-a285-be4562993c3a",
   "metadata": {
    "tags": []
   },
   "outputs": [],
   "source": [
    "make_plot(out=6)"
   ]
  },
  {
   "cell_type": "markdown",
   "id": "a461deec-86c6-48b3-9866-2be57b6eaab1",
   "metadata": {},
   "source": [
    "We can also make a longitude-time plot, to compare with the gravity wave experiment:"
   ]
  },
  {
   "cell_type": "code",
   "execution_count": null,
   "id": "483ac293-55b1-43f7-a62e-119426b9ceaa",
   "metadata": {
    "tags": []
   },
   "outputs": [],
   "source": [
    "h_mid = np.mean(h_save + H[:, :, None], axis=1)\n",
    "h_midf = np.mean(h_save[:, :, -1], axis=1)\n",
    "\n",
    "orog = np.mean(H, axis=1)\n",
    "oplot = (h_mid - h_mid + orog[:, None]).T/1e3\n",
    "\n",
    "var = (h_mid).T/1e3\n",
    "\n",
    "clevs = np.arange(9.7, 9.82, 0.01)\n",
    "clevs_orog = np.arange(0, 10, 1)\n",
    "cf = plt.contourf(x/1e6, np.squeeze(t_save)/(60*60), var, clevs, extend='both',\n",
    "                 cmap='magma')\n",
    "plt.contour(x/1e6, np.squeeze(t_save)/(60*60), oplot, clevs_orog, colors='black',\n",
    "                 linewidths=0.75)\n",
    "plt.colorbar(cf, pad=0.1)\n",
    "plt.xlabel('X Distance (1000s of km)')\n",
    "plt.ylabel('Time (hours)')\n",
    "plt.title('Lon-Time Plot of Lat-Averaged Height (km)')\n",
    "plt.grid(linestyle='dashed', color='white')\n",
    "plt.show()"
   ]
  },
  {
   "cell_type": "code",
   "execution_count": null,
   "id": "b535f8d8-b6ad-446b-b2fa-ae65021a789c",
   "metadata": {
    "tags": []
   },
   "outputs": [],
   "source": [
    "make_animation_file(outfile='tsunami.gif')"
   ]
  },
  {
   "cell_type": "code",
   "execution_count": null,
   "id": "b5059090-b4ae-458d-aac9-fd51009c02c4",
   "metadata": {},
   "outputs": [],
   "source": [
    "make_inline_animation()"
   ]
  },
  {
   "cell_type": "markdown",
   "id": "857e0100-6a47-4ad3-a099-461434eb6d05",
   "metadata": {},
   "source": [
    "Some questions: How does the behavior of the wave change when it encounters the orography? How does the longitude-time plot compare with the previous experiment without orography?"
   ]
  },
  {
   "cell_type": "markdown",
   "id": "c54ee476-5244-4056-9146-76369c4898b7",
   "metadata": {},
   "source": [
    "#### 6.3 Barotropic Instability"
   ]
  },
  {
   "cell_type": "markdown",
   "id": "23a23e23-8cc4-432c-9e15-d826343f191b",
   "metadata": {},
   "source": [
    "This experiment begins with a geostrophically-balanced zonal jet in the mid-latitudes, with a small amount of noise added. (Note that this model does not have vertical variations in any of the fields and so does not include baroclinic effects.)"
   ]
  },
  {
   "cell_type": "code",
   "execution_count": null,
   "id": "db693029-e36f-44a8-940a-e4d0eff15452",
   "metadata": {},
   "outputs": [],
   "source": [
    "(u_save, v_save, h_save, t_save, H, x, y) = \\\n",
    "run_model(orography = FLAT,\n",
    "          initial_conditions = ZONAL_JET,\n",
    "          initially_geostrophic = True,\n",
    "          add_random_height_noise = True)"
   ]
  },
  {
   "cell_type": "markdown",
   "id": "70181b19-d196-46a6-aaac-0a8c0ccbeaaf",
   "metadata": {},
   "source": [
    "Plot the first output time:"
   ]
  },
  {
   "cell_type": "code",
   "execution_count": null,
   "id": "facafb61-73cd-403f-a278-33a98cefe8f0",
   "metadata": {
    "tags": []
   },
   "outputs": [],
   "source": [
    "make_plot(out=0)"
   ]
  },
  {
   "cell_type": "markdown",
   "id": "a2109232-b2d2-46d5-84a4-50338b2d9914",
   "metadata": {},
   "source": [
    "How might we expect the flow to evolve? Here's the last output time:"
   ]
  },
  {
   "cell_type": "code",
   "execution_count": null,
   "id": "89c00d36-6464-455d-ad88-e9fa260dffe0",
   "metadata": {
    "tags": []
   },
   "outputs": [],
   "source": [
    "make_plot(out=-1)"
   ]
  },
  {
   "cell_type": "markdown",
   "id": "201e9c89-fec1-460a-8e78-00d48c50c024",
   "metadata": {},
   "source": [
    "Save an animation (adjusting the plotting parameters slightly):"
   ]
  },
  {
   "cell_type": "code",
   "execution_count": null,
   "id": "51ec445b-22d3-423b-875d-40bd20e743fb",
   "metadata": {
    "tags": []
   },
   "outputs": [],
   "source": [
    "make_animation_file(outfile='barotropic_instability.gif', \n",
    "                    scale=100, h1=9.25e3, h2=10.75e3, vort1=-4e-4, vort2=4e-4)"
   ]
  },
  {
   "cell_type": "markdown",
   "id": "462a4bde-d88e-4f1e-b048-33d8516f1454",
   "metadata": {},
   "source": [
    "Make an inline animation:"
   ]
  },
  {
   "cell_type": "code",
   "execution_count": null,
   "id": "48e34891-f853-486c-b67e-fb5c9d5ee88c",
   "metadata": {},
   "outputs": [],
   "source": [
    "make_inline_animation(scale=100, h1=9.25e3, h2=10.75e3, vort1=-4e-4, vort2=4e-4)"
   ]
  },
  {
   "cell_type": "markdown",
   "id": "f31aaf25-e82e-4d3a-9251-c4ba921bc446",
   "metadata": {},
   "source": [
    "Some questions: What changes if there's no random noise? What would be different if the initial winds were at rest? If there's no f0 or beta?"
   ]
  },
  {
   "cell_type": "markdown",
   "id": "286eae52-e1cf-476b-983c-27b6ad305668",
   "metadata": {},
   "source": [
    "#### 6.4 Orographic Rossby Waves: Gaussian Mountain"
   ]
  },
  {
   "cell_type": "markdown",
   "id": "6b042f17-e20d-4b24-a055-c8d49ae55329",
   "metadata": {},
   "source": [
    "This experiment puts an isolated mountain range in a uniform westerly flow."
   ]
  },
  {
   "cell_type": "code",
   "execution_count": null,
   "id": "b2a34fba-e9c7-4d4a-a4e6-24174354fee2",
   "metadata": {},
   "outputs": [],
   "source": [
    "(u_save, v_save, h_save, t_save, H, x, y) = run_model(orography = GAUSSIAN_MOUNTAIN,\n",
    "                                                      initial_conditions = UNIFORM_WESTERLY,\n",
    "                                                      initially_geostrophic = True)\n"
   ]
  },
  {
   "cell_type": "markdown",
   "id": "1e8f641e-2c45-4117-8dcb-545fa7c415ad",
   "metadata": {},
   "source": [
    "Plot the first output timestep:"
   ]
  },
  {
   "cell_type": "code",
   "execution_count": null,
   "id": "fc9eeb72-7ca8-49e9-89f1-20c6c938e6b3",
   "metadata": {
    "tags": []
   },
   "outputs": [],
   "source": [
    "make_plot(out=0)"
   ]
  },
  {
   "cell_type": "markdown",
   "id": "5ebfba8e-6ee2-4960-a437-6bdab65a3020",
   "metadata": {},
   "source": [
    "Plot the last output time step:"
   ]
  },
  {
   "cell_type": "code",
   "execution_count": null,
   "id": "6280b38b-74c6-4f47-941e-10988cb8c806",
   "metadata": {},
   "outputs": [],
   "source": [
    "make_plot(out=-1)"
   ]
  },
  {
   "cell_type": "markdown",
   "id": "9c688602-110d-42d3-9ca9-8062f1a0e0cb",
   "metadata": {},
   "source": [
    "Save animation file:"
   ]
  },
  {
   "cell_type": "code",
   "execution_count": null,
   "id": "eb815581-3b97-4a20-98cc-caf160b054e1",
   "metadata": {},
   "outputs": [],
   "source": [
    "make_animation_file(outfile='rossby_ideal_mountain.gif')"
   ]
  },
  {
   "cell_type": "code",
   "execution_count": null,
   "id": "26fece2c-3151-44ab-9cee-eb375970d1a8",
   "metadata": {},
   "outputs": [],
   "source": [
    "make_inline_animation()"
   ]
  },
  {
   "cell_type": "markdown",
   "id": "371da98c-3d17-4dfa-8080-164d66bc82ec",
   "metadata": {},
   "source": [
    "Some questions: Are there any mountain ranges that have a large downstream trough like this? Would you expect the atmospheric response to be similar or different for westerly flow encountering an individual mountain (say, a few kilometers wide)?"
   ]
  },
  {
   "cell_type": "markdown",
   "id": "d94db913-76ac-4617-9f8e-72447384946f",
   "metadata": {},
   "source": [
    "#### 6.5 Orographic Rossby Waves: Realistic Mountains"
   ]
  },
  {
   "cell_type": "markdown",
   "id": "313fc560-1f0d-4ec4-ab37-3879f88160ff",
   "metadata": {},
   "source": [
    "This experiment puts the observed orography into a uniform westerly flow."
   ]
  },
  {
   "cell_type": "code",
   "execution_count": null,
   "id": "008aad31-ce9c-4e2d-8787-66e526202838",
   "metadata": {
    "tags": []
   },
   "outputs": [],
   "source": [
    "(u_save, v_save, h_save, t_save, H, x, y) = \\\n",
    "run_model(orography = EARTH_OROGRAPHY,\n",
    "          initial_conditions = UNIFORM_WESTERLY,\n",
    "          initially_geostrophic = True)"
   ]
  },
  {
   "cell_type": "markdown",
   "id": "d9b4cd9c-18ba-4b0a-9c25-099ef3e70d23",
   "metadata": {},
   "source": [
    "Plot the first output timestep:"
   ]
  },
  {
   "cell_type": "code",
   "execution_count": null,
   "id": "7782f993-dfed-49eb-9267-004b5712ed4d",
   "metadata": {},
   "outputs": [],
   "source": [
    "make_plot(out=0)"
   ]
  },
  {
   "cell_type": "markdown",
   "id": "ea902486-dab8-4420-8e19-4fd05087e215",
   "metadata": {},
   "source": [
    "And the last output timestep:"
   ]
  },
  {
   "cell_type": "code",
   "execution_count": null,
   "id": "7954079e-d35c-48d5-8147-6ce437698328",
   "metadata": {
    "tags": []
   },
   "outputs": [],
   "source": [
    "make_plot(out=-1)"
   ]
  },
  {
   "cell_type": "markdown",
   "id": "f72fa27d-b100-48d6-a8fe-1cf0465377c6",
   "metadata": {},
   "source": [
    "Save an animation file:"
   ]
  },
  {
   "cell_type": "code",
   "execution_count": null,
   "id": "afac4a11-9950-4686-a360-77ceb04914c3",
   "metadata": {},
   "outputs": [],
   "source": [
    "make_animation_file(outfile=\"rossby_realistic_mountains.gif\")"
   ]
  },
  {
   "cell_type": "markdown",
   "id": "9e249aab-9230-4166-a789-83af93552b06",
   "metadata": {},
   "source": [
    "Make an inline animation:"
   ]
  },
  {
   "cell_type": "code",
   "execution_count": null,
   "id": "b064efe1-f656-4038-8c70-4a2ac3fc9985",
   "metadata": {},
   "outputs": [],
   "source": [
    "make_inline_animation()"
   ]
  },
  {
   "cell_type": "markdown",
   "id": "ab721c3a-17de-4253-8937-5ce7029bced3",
   "metadata": {},
   "source": [
    "Some questions: How well does this fit with the observed flow, qualitatively? What are some unrealistic aspects of this experiment? How similar is this to the previous experiment with idealized flow? How much of a difference do the small-scale featuers of the orography make to the height response? To the vorticity?"
   ]
  },
  {
   "cell_type": "markdown",
   "id": "5fbf52e6-b1b1-4f8b-97b9-e3a859729979",
   "metadata": {},
   "source": [
    "#### 6.6 Equatorially Trapped Waves"
   ]
  },
  {
   "cell_type": "markdown",
   "id": "d27851c2-479b-4462-89cb-617e650aa6d0",
   "metadata": {},
   "source": [
    "Now let's consider an easterly jet, centered on the equator (set by choosing f=0, which means that y=0 corresponds to the equator)."
   ]
  },
  {
   "cell_type": "code",
   "execution_count": null,
   "id": "52705d2c-6288-4ee9-a966-017d08e0e470",
   "metadata": {
    "tags": []
   },
   "outputs": [],
   "source": [
    "(u_save, v_save, h_save, t_save, H, x, y) = \\\n",
    "run_model(f0=0,\n",
    "          beta=2.5e-11,\n",
    "          orography=FLAT,\n",
    "          initial_conditions=EQUATORIAL_EASTERLY,\n",
    "          add_random_height_noise=True)"
   ]
  },
  {
   "cell_type": "markdown",
   "id": "caa7b08c-a595-483d-8c6b-73e741c3d292",
   "metadata": {},
   "source": [
    "Plot of the first output time:"
   ]
  },
  {
   "cell_type": "code",
   "execution_count": null,
   "id": "ea8d9242-ed37-497a-bcb2-f32a6090dddb",
   "metadata": {
    "tags": []
   },
   "outputs": [],
   "source": [
    "make_plot(out=0)"
   ]
  },
  {
   "cell_type": "markdown",
   "id": "1dca9232-884a-44f2-8df1-1a097f4e885b",
   "metadata": {},
   "source": [
    "Plot the last output time:"
   ]
  },
  {
   "cell_type": "code",
   "execution_count": null,
   "id": "b8db32e8-4bf5-48c7-b669-ec8b45888faa",
   "metadata": {
    "tags": []
   },
   "outputs": [],
   "source": [
    "make_plot(out=-1)"
   ]
  },
  {
   "cell_type": "code",
   "execution_count": null,
   "id": "75a9282e-bcb9-42ad-aa9f-71d40dff7519",
   "metadata": {
    "tags": []
   },
   "outputs": [],
   "source": [
    "make_inline_animation()"
   ]
  },
  {
   "cell_type": "markdown",
   "id": "53f70f9a-5975-4e12-b107-2800c5b56dec",
   "metadata": {},
   "source": [
    "Some questions: How does this differ from the midlatitude barotropic instability case? Does the relationship between height and vorticity change?"
   ]
  },
  {
   "cell_type": "markdown",
   "id": "b412ba28-0cdf-4be5-8d4e-171f94e0cb50",
   "metadata": {},
   "source": [
    "#### 6.7 Equatorial Kelvin Wave"
   ]
  },
  {
   "cell_type": "markdown",
   "id": "ccebee99-218d-4e41-a910-2502616173c7",
   "metadata": {},
   "source": [
    "Here we run an experiment with the same gaussian blob as in the gravity wave case, but at the equator. The same length of run is used for easy comparison but a shorter run with more frequent output would provide a clearer picture of the response."
   ]
  },
  {
   "cell_type": "code",
   "execution_count": null,
   "id": "704462ef-1ab5-4a61-81ad-3172479e8427",
   "metadata": {
    "tags": []
   },
   "outputs": [],
   "source": [
    "(u_save, v_save, h_save, t_save, H, x, y) = \\\n",
    "run_model(f0=0,\n",
    "          beta=5e-10,\n",
    "          orography=FLAT,\n",
    "          dt_mins = 0.5,\n",
    "          initial_conditions=GAUSSIAN_BLOB,\n",
    "          initially_geostrophic=False,\n",
    "          add_random_height_noise=False)"
   ]
  },
  {
   "cell_type": "markdown",
   "id": "3c74ed00-6e1a-4b4c-ad23-88d2d9a2a64d",
   "metadata": {},
   "source": [
    "Plot the initial conditions:"
   ]
  },
  {
   "cell_type": "code",
   "execution_count": null,
   "id": "b84c9637-5f23-4570-90c3-155abaa0835d",
   "metadata": {
    "tags": []
   },
   "outputs": [],
   "source": [
    "make_plot(out=0)"
   ]
  },
  {
   "cell_type": "markdown",
   "id": "62161a09-4337-4b11-89c4-f8602bd9267c",
   "metadata": {},
   "source": [
    "Plot the second output timestep:"
   ]
  },
  {
   "cell_type": "code",
   "execution_count": null,
   "id": "a20b708a-f6b8-4c08-9b1c-1ebc3e3c043a",
   "metadata": {
    "tags": []
   },
   "outputs": [],
   "source": [
    "make_plot(out=1)"
   ]
  },
  {
   "cell_type": "markdown",
   "id": "18e14428-dabd-4ec7-8564-d5910bdf7a36",
   "metadata": {},
   "source": [
    "Probably useful to adjust our plotting parameters:"
   ]
  },
  {
   "cell_type": "code",
   "execution_count": null,
   "id": "8295daa7-b662-4cd6-a0df-7488be1d36aa",
   "metadata": {
    "tags": []
   },
   "outputs": [],
   "source": [
    "make_plot(out=5, h1=9.7e3, h2=10.3e3, vort1=-5e-5, vort2=5e-5, scale=20)"
   ]
  },
  {
   "cell_type": "code",
   "execution_count": null,
   "id": "09c2e17e",
   "metadata": {
    "tags": []
   },
   "outputs": [],
   "source": [
    "make_plot(out=5, h1=9.7e3, h2=10.3e3, vort1=-5e-5, vort2=5e-5, scale=20)"
   ]
  },
  {
   "cell_type": "markdown",
   "id": "d1d03887-30ee-439a-b282-46769721e02e",
   "metadata": {},
   "source": [
    "Make a longitude-time plot, to compare with the earler experment."
   ]
  },
  {
   "cell_type": "code",
   "execution_count": null,
   "id": "b0bba6c2-eb77-4ed6-8e60-dcde8b8cfc5b",
   "metadata": {
    "tags": []
   },
   "outputs": [],
   "source": [
    "h_mid = np.mean(h_save, axis=1)\n",
    "\n",
    "clevs = np.arange(9.7, 9.82, 0.01)\n",
    "cf = plt.contourf(x/1e6, np.squeeze(t_save)/(60*60), h_mid.T/1e3, clevs, extend='both',\n",
    "                 cmap='magma')\n",
    "plt.colorbar(cf, pad=0.1)\n",
    "plt.xlabel('X Distance (1000s of km)')\n",
    "plt.ylabel('Time (hours)')\n",
    "plt.title('Lon-Time Plot of Lat-Averaged Height (km)')\n",
    "plt.grid(linestyle='dashed', color='white')\n",
    "plt.show()"
   ]
  },
  {
   "cell_type": "markdown",
   "id": "a38ea67b-56ba-433f-8432-9aab85f4a3cd",
   "metadata": {},
   "source": [
    "Save an animation file:"
   ]
  },
  {
   "cell_type": "code",
   "execution_count": null,
   "id": "a7509286-e888-4964-89eb-7be28498231e",
   "metadata": {
    "tags": []
   },
   "outputs": [],
   "source": [
    "make_animation_file(outfile='eq_kelvin.gif',\n",
    "                    h1=9.7e3, h2=10.3e3, vort1=-5e-5, vort2=5e-5, scale=20)"
   ]
  },
  {
   "cell_type": "markdown",
   "id": "43f8fedc-0240-49e8-a022-27d072824bb4",
   "metadata": {},
   "source": [
    "Make inline animation:"
   ]
  },
  {
   "cell_type": "code",
   "execution_count": null,
   "id": "e5a87b4b-201e-4c5e-bb2b-79fa2a7b8f98",
   "metadata": {
    "tags": []
   },
   "outputs": [],
   "source": [
    "make_inline_animation()"
   ]
  },
  {
   "cell_type": "markdown",
   "id": "1402fadb-32a2-4c88-a2fe-0b931afa1c13",
   "metadata": {},
   "source": [
    "Some questions: This has the same initial conditions as the earlier gravity wave experiment but with changes to f0 and beta consistent with y=0 being the equator. How does that change the behavior? Why are things so different at the equator?"
   ]
  },
  {
   "cell_type": "markdown",
   "id": "7b6fffda-819e-4021-8308-2aa831bf6af8",
   "metadata": {},
   "source": [
    "#### 6.8 Beta Drift"
   ]
  },
  {
   "cell_type": "markdown",
   "id": "8c627c59-cf0a-48eb-836d-3527abe74a20",
   "metadata": {},
   "source": [
    "What happens to an isolated vortex (cyclone) with no environmental flow? That is, like the \"cyclone in westerly\" experiment but without the westerlies."
   ]
  },
  {
   "cell_type": "code",
   "execution_count": null,
   "id": "575c13a6-ece0-4340-bb8b-742dfce05770",
   "metadata": {},
   "outputs": [],
   "source": [
    "(u_save, v_save, h_save, t_save, H, x, y) = \\\n",
    "run_model(initial_conditions = GAUSSIAN_LOW,\n",
    "          add_random_height_noise = False,\n",
    "          dt_mins = 0.25,\n",
    "          output_interval_mins = 60.,\n",
    "          forecast_length_days = 4.)"
   ]
  },
  {
   "cell_type": "markdown",
   "id": "92034f51-a69d-4317-9843-3fd1e6545796",
   "metadata": {},
   "source": [
    "Plot the first output time:"
   ]
  },
  {
   "cell_type": "code",
   "execution_count": null,
   "id": "ede1ce6b-7398-443b-91df-cc0c647105a3",
   "metadata": {
    "tags": []
   },
   "outputs": [],
   "source": [
    "make_plot(out=0)"
   ]
  },
  {
   "cell_type": "markdown",
   "id": "222b1d4f-8272-4292-b0d9-d8db145292cc",
   "metadata": {},
   "source": [
    "plot the last output time:"
   ]
  },
  {
   "cell_type": "code",
   "execution_count": null,
   "id": "db7ac3fc-08a1-4447-a75d-47e8bba5ef73",
   "metadata": {
    "tags": []
   },
   "outputs": [],
   "source": [
    "make_plot(out=-1)"
   ]
  },
  {
   "cell_type": "markdown",
   "id": "4ba6d02a-92ac-4818-9df7-b758e24ee3f8",
   "metadata": {},
   "source": [
    "Save an animation file:"
   ]
  },
  {
   "cell_type": "code",
   "execution_count": null,
   "id": "2ab555e5-c24a-4f9e-b61b-a71b8e114fb7",
   "metadata": {
    "tags": []
   },
   "outputs": [],
   "source": [
    "make_animation_file(outfile='beta_drift.gif')"
   ]
  },
  {
   "cell_type": "markdown",
   "id": "d4a9dc97-0e56-4a01-88fa-b993fd62c106",
   "metadata": {},
   "source": [
    "Make an inline animation:"
   ]
  },
  {
   "cell_type": "code",
   "execution_count": null,
   "id": "b9106170-df2d-40df-bcbd-d3ba04171927",
   "metadata": {},
   "outputs": [],
   "source": [
    "make_inline_animation()"
   ]
  },
  {
   "cell_type": "markdown",
   "id": "23ffc8ab-55cc-48fe-8e4f-fb02b3aadb0f",
   "metadata": {},
   "source": [
    "Some questions: Why is there an intial disturbance that rapidly moves away from the vortex? What could be done to reduce or eliminate that? What parameter controls the northwestward drift of the main vortex? What would the height field need to look like to have only positive vorticity in the initial wind field?"
   ]
  },
  {
   "cell_type": "markdown",
   "id": "bbd7ecdf-d1e1-4a9f-8d13-d3c3c97bdab6",
   "metadata": {},
   "source": [
    "### 7. Set Your Own Initial Conditions"
   ]
  },
  {
   "cell_type": "markdown",
   "id": "cf84e98b-d741-4aa0-a9b4-a4ec23af2f47",
   "metadata": {},
   "source": [
    "The model has also been modified to start with user-specified initial fields of u, v, h, and orography. This version of the model can be run with 'run_model_ic,' with the initial fields given as arguments to the model call. Some examples are given below."
   ]
  },
  {
   "cell_type": "markdown",
   "id": "132325fb-33df-460c-a398-6a927925564c",
   "metadata": {},
   "source": [
    "#### 7.1 Example: zonal jet with no rotation"
   ]
  },
  {
   "cell_type": "markdown",
   "id": "aa1b86aa-a9d6-4e3e-a357-a7b3b887dc28",
   "metadata": {},
   "source": [
    "In the previous section, we looked at the (barotropic) instability of a westerly jet in the midlatitudes and an easterly jet at the equator. What about a jet in the case of no rotation? This experiment considers an initial condition with a zonal strip of constant u-wind, no v-wind, and constant height. A small amount of noise is added to u. This is essentially the simplest possible jet in a 2D fluid: how stable is it to small perturbations (noise)?"
   ]
  },
  {
   "cell_type": "code",
   "execution_count": null,
   "id": "a00ebc88-7acb-41bd-b78b-fdb09325fa05",
   "metadata": {
    "tags": []
   },
   "outputs": [],
   "source": [
    "# make initial conditions\n",
    "\n",
    "nx = 254\n",
    "ny = 50\n",
    "\n",
    "u0 = np.zeros((nx, ny)) \n",
    "u0[:, 20:31] = 100.0\n",
    "u0 = u0 + 2*np.random.randn(nx, ny) # let's make some noise!\n",
    "v0 = np.zeros((nx, ny)) \n",
    "h0 = np.zeros((nx, ny)) + 10e3 \n",
    "orog = np.zeros((nx, ny))\n",
    "\n",
    "# run model\n",
    "\n",
    "(u_save, v_save, h_save, t_save, H, x, y) = run_model_ic(\n",
    "                                            h_ic = h0,\n",
    "                                            u_ic = u0,\n",
    "                                            v_ic = v0,\n",
    "                                            orog = orog,\n",
    "                                            f0 = 0,\n",
    "                                            beta = 0,\n",
    "                                            nx = nx,\n",
    "                                            ny = ny\n",
    "                                            )"
   ]
  },
  {
   "cell_type": "markdown",
   "id": "d78fad55-7af8-4626-8199-ca04cde6ec4a",
   "metadata": {},
   "source": [
    "Show initial conditions:"
   ]
  },
  {
   "cell_type": "code",
   "execution_count": null,
   "id": "2cc8814e-52a7-4b91-b6d2-389c5cbea310",
   "metadata": {
    "tags": []
   },
   "outputs": [],
   "source": [
    "make_plot(out=0)"
   ]
  },
  {
   "cell_type": "markdown",
   "id": "8219958f-cbab-4a77-8ecf-ff0444ab3340",
   "metadata": {
    "tags": []
   },
   "source": [
    "Show final output time step:"
   ]
  },
  {
   "cell_type": "code",
   "execution_count": null,
   "id": "5ed51262-90fe-4205-acee-ad2d601f5471",
   "metadata": {
    "tags": []
   },
   "outputs": [],
   "source": [
    "make_plot(out=-1)"
   ]
  },
  {
   "cell_type": "markdown",
   "id": "82fc167a-c0f8-4b3b-8c0c-be30e476b31c",
   "metadata": {},
   "source": [
    "Make animation file:"
   ]
  },
  {
   "cell_type": "code",
   "execution_count": null,
   "id": "5e5a6458-e225-4d16-b47a-124e84bd32a1",
   "metadata": {
    "tags": []
   },
   "outputs": [],
   "source": [
    "make_animation_file(outfile='wind_strip.gif')"
   ]
  },
  {
   "cell_type": "markdown",
   "id": "2f2f9100-fe68-4d85-9cdf-630b015cb360",
   "metadata": {},
   "source": [
    "Make inline animation:"
   ]
  },
  {
   "cell_type": "code",
   "execution_count": null,
   "id": "ef91cffc-bed6-4d57-a3a6-7273a54cb04a",
   "metadata": {},
   "outputs": [],
   "source": [
    "make_inline_animation()"
   ]
  },
  {
   "cell_type": "markdown",
   "id": "72d8e06d-46be-491a-92be-0d7228f5773e",
   "metadata": {},
   "source": [
    "Questions: What does this suggest about the general stability of jets? Does rotation make a jet less stable or more stable?"
   ]
  },
  {
   "cell_type": "markdown",
   "id": "7460a34d-1527-481f-979e-5e2af10b940b",
   "metadata": {},
   "source": [
    "#### 7.2 Example: Balanced Equatorial Kelvin Wave"
   ]
  },
  {
   "cell_type": "markdown",
   "id": "d893bd00-f6d5-40a1-9412-e0d6314e3901",
   "metadata": {},
   "source": [
    "In the previous Kelvin wave example, the initial wind field was at rest. Here let's add a balanced zonal wind field. (Note that we're also changing the time step and doing a shorter run.)"
   ]
  },
  {
   "cell_type": "code",
   "execution_count": null,
   "id": "befa17c8-a440-47cc-a543-fd30bc1d8e79",
   "metadata": {
    "tags": []
   },
   "outputs": [],
   "source": [
    "\n",
    "# start with the Gaussian blob for height as before\n",
    "# but now also use the same function for winds, to make\n",
    "# a balanced initial state\n",
    "\n",
    "# prep work for making initial conditions\n",
    "\n",
    "g = 9.81\n",
    "re = 6.378e6\n",
    "h_ref = 9750\n",
    "c = np.sqrt(g*h_ref)\n",
    "beta = 5e-10\n",
    "t_scale = np.sqrt(1/(c*beta))\n",
    "l_scale = np.sqrt(c/beta)\n",
    "\n",
    "nx = 254\n",
    "ny = 50\n",
    "\n",
    "dy = 111e3\n",
    "dx = (2*np.pi*re/nx)\n",
    "x = np.mgrid[0:nx]*dx\n",
    "y = np.mgrid[0:ny]*dy\n",
    "y = y - np.mean(y) \n",
    "[Y, X] = np.meshgrid(y, x)\n",
    "\n",
    "std_blob = l_scale; # Standard deviation of blob (m)\n",
    "blob = np.exp(-((X-0.25*np.mean(x))**2.+(Y-np.mean(y))**2.)/(2*std_blob**2.))\n",
    "\n",
    "fac = 1000\n",
    "\n",
    "# make initial conditions\n",
    "\n",
    "h0 = h_ref + fac*blob                   # gaussian blob\n",
    "u0 = fac*blob*g/(beta*std_blob**2)      # balanced u-wind\n",
    "v0 = np.zeros((nx, ny))                 # no v-wind\n",
    "orog = np.zeros((nx, ny))               # no orography\n",
    "\n",
    "# run model\n",
    "\n",
    "(u_save, v_save, h_save, t_save, H, x, y) = run_model_ic(\n",
    "                                            h_ic = h0,\n",
    "                                            u_ic = u0,\n",
    "                                            v_ic = v0,\n",
    "                                            orog = orog,\n",
    "                                            f0 = 0,\n",
    "                                            beta = beta,\n",
    "                                            dx = dx,\n",
    "                                            dy = dy,\n",
    "                                            nx = nx,\n",
    "                                            ny = ny,\n",
    "                                            dt_mins=0.1,\n",
    "                                            add_random_height_noise = False,\n",
    "                                            forecast_length_days = 1)"
   ]
  },
  {
   "cell_type": "markdown",
   "id": "dd7fe479-6fd2-46b9-83d7-97f0c1df1564",
   "metadata": {},
   "source": [
    "Plot the initial conditions:"
   ]
  },
  {
   "cell_type": "code",
   "execution_count": null,
   "id": "73e597d0-be66-485c-bc21-1449de390365",
   "metadata": {
    "tags": []
   },
   "outputs": [],
   "source": [
    "make_plot(out=0, vort1=-1e-4, vort2=1e-4, scale=50)"
   ]
  },
  {
   "cell_type": "markdown",
   "id": "50b701cc-e0d4-439e-b06e-1885ccc20442",
   "metadata": {
    "tags": []
   },
   "source": [
    "Plot after 24 hours:"
   ]
  },
  {
   "cell_type": "code",
   "execution_count": null,
   "id": "630eaf98-3316-40ea-9ae3-a8ae1430e807",
   "metadata": {
    "tags": []
   },
   "outputs": [],
   "source": [
    "make_plot(out=24, vort1=-1e-4, vort2=1e-4, scale=50)"
   ]
  },
  {
   "cell_type": "markdown",
   "id": "4badec16-4859-4fe0-a921-00c05776f58d",
   "metadata": {
    "tags": []
   },
   "source": [
    "Make inline animation:"
   ]
  },
  {
   "cell_type": "code",
   "execution_count": null,
   "id": "aae000b4-5592-404c-9ef5-bdd6ca4e39fd",
   "metadata": {
    "tags": []
   },
   "outputs": [],
   "source": [
    "make_inline_animation()"
   ]
  },
  {
   "cell_type": "markdown",
   "id": "50494a69-c985-4f9e-9046-401f4617e9b5",
   "metadata": {},
   "source": [
    "Some questions: How is this different from the previous Kelvin wave example? What's causing the changes to the disturbance over time? What happens if the model is run out to four days?"
   ]
  },
  {
   "cell_type": "markdown",
   "id": "ad818ea3-f3d1-45bf-bf25-ac6250c35d24",
   "metadata": {},
   "source": [
    "**Linear version** The standard set of equatorial waves is derived based on the shallow water model linearized about a resting back state (no advection). We can see what happens to the same experiment if we run a version of the model without advection. (Note that advection is only approximately removed.)"
   ]
  },
  {
   "cell_type": "code",
   "execution_count": null,
   "id": "48ec2ef1-c0ac-48b9-b875-6687866bdf18",
   "metadata": {
    "tags": []
   },
   "outputs": [],
   "source": [
    "# model with advection removed (poorly)\n",
    "# this is a very preliminary version of the model\n",
    "\n",
    "# start with the Gaussian blob for height as before\n",
    "# but now also use the same function for winds, to make\n",
    "# a balanced initial state\n",
    "\n",
    "h_ref = 9750\n",
    "c = np.sqrt(g*h_ref)\n",
    "beta = 5e-10\n",
    "t_scale = np.sqrt(1/(c*beta))\n",
    "l_scale = np.sqrt(c/beta)\n",
    "\n",
    "std_blob = l_scale; # Standard deviation of blob (m)\n",
    "blob = np.exp(-((X-0.25*np.mean(x))**2.+(Y-np.mean(y))**2.)/(2*std_blob**2.))\n",
    "\n",
    "fac = 1000\n",
    "h0 = h_ref + fac*blob\n",
    "u0 = fac*blob*g/(beta*std_blob**2)\n",
    "v0 = np.zeros((nx, ny))\n",
    "orog = np.zeros((nx, ny))\n",
    "\n",
    "# run the (kind of) linear model\n",
    "\n",
    "(u_save, v_save, h_save, t_save, H, x, y) = run_linear_model_ic(\n",
    "                                            h_ic = h0,\n",
    "                                            u_ic = u0,\n",
    "                                            v_ic = v0,\n",
    "                                            orog = orog,\n",
    "                                            f0 = 0,\n",
    "                                            beta = beta,\n",
    "                                            dx = dx,\n",
    "                                            dy = dy,\n",
    "                                            nx = nx,\n",
    "                                            ny = ny,\n",
    "                                            dt_mins=0.1,\n",
    "                                            add_random_height_noise = False,\n",
    "                                            forecast_length_days = 1)"
   ]
  },
  {
   "cell_type": "markdown",
   "id": "ee11c0b8-299e-47cc-90eb-4c97fe342acb",
   "metadata": {},
   "source": [
    "In the linear case, we expect the initial Kelvin wave disturbance to keep its form and speed constant, indefininitely. Let's check if that happens in our (mostly) linear version of the mode."
   ]
  },
  {
   "cell_type": "markdown",
   "id": "532800a5-6409-4b0e-af81-c2fb384ef590",
   "metadata": {},
   "source": [
    "Plot the initial conditions (same as before)"
   ]
  },
  {
   "cell_type": "code",
   "execution_count": null,
   "id": "1985787b-af2a-48d0-9645-d321a7eef9ad",
   "metadata": {
    "tags": []
   },
   "outputs": [],
   "source": [
    "make_plot(out=0, vort1=-1e-4, vort2=1e-4, scale=50)"
   ]
  },
  {
   "cell_type": "markdown",
   "id": "1f445f7d-1cf2-486a-bd24-160f578020af",
   "metadata": {},
   "source": [
    "Plot 24 hours later:"
   ]
  },
  {
   "cell_type": "code",
   "execution_count": null,
   "id": "b5be45cd-75a4-46a0-ac7a-40369844637c",
   "metadata": {
    "tags": []
   },
   "outputs": [],
   "source": [
    "make_plot(out=24, vort1=-1e-4, vort2=1e-4, scale=50)"
   ]
  },
  {
   "cell_type": "markdown",
   "id": "15f23cfa-12ef-4cd0-bcc6-3747f2e9835c",
   "metadata": {},
   "source": [
    "#### 7.3 Just For Fun"
   ]
  },
  {
   "cell_type": "markdown",
   "id": "bfc20080-e177-4c8f-91da-1fc91058e775",
   "metadata": {},
   "source": [
    "Since we can start with any initial conditions we like, why not set the initial height field based on some text?"
   ]
  },
  {
   "cell_type": "code",
   "execution_count": null,
   "id": "5959416f-8ec7-48fe-8aac-69227297e464",
   "metadata": {},
   "outputs": [],
   "source": [
    "# make an image of some text and save to a file\n",
    "plt.figure(figsize=(10, 10*ny/nx))\n",
    "\n",
    "text = 'UMass Lowell'\n",
    "plt.text(0.5, 0.5, text, dict(size=60, weight='bold'), \n",
    "         horizontalalignment='center', verticalalignment='center')\n",
    "plt.axis('off')\n",
    "plt.savefig(\"text.png\", bbox_inches='tight')"
   ]
  },
  {
   "cell_type": "code",
   "execution_count": null,
   "id": "edde94de-ca2c-4644-84cf-add3ebfc1099",
   "metadata": {},
   "outputs": [],
   "source": [
    "# read in the image and interpolate to a specified grid\n",
    "# note that this could be applied to any image file\n",
    "\n",
    "nx = 254\n",
    "ny = 75\n",
    "\n",
    "dy = 100e3\n",
    "dx = (2*np.pi*re/nx)\n",
    "x = np.mgrid[0:nx]*dx\n",
    "y = np.mgrid[0:ny]*dy\n",
    "y = y - np.mean(y) \n",
    "[Y, X] = np.meshgrid(y, x)\n",
    "\n",
    "text_array = plt.imread(\"text.png\")\n",
    "image = text_array[:, :, 0]\n",
    "x_image = np.linspace(x[0], x[-1], image.shape[1])\n",
    "y_image = np.linspace(y[-1], y[0], image.shape[0])\n",
    "interp = RegularGridInterpolator((y_image, x_image), image)\n",
    "\n",
    "gim = interp((Y, X)) # here's our image on the grid"
   ]
  },
  {
   "cell_type": "code",
   "execution_count": null,
   "id": "610dccaf-c339-4588-a99d-589d47f06cd5",
   "metadata": {
    "tags": []
   },
   "outputs": [],
   "source": [
    "# define the initial condtions and run the model\n",
    "\n",
    "h0 = 10.4*1e3-gim*9*1e2      # height field based on image\n",
    "\n",
    "u0 = np.zeros((nx, ny))      # no u-wind\n",
    "v0 = np.zeros((nx, ny))      # no v-wind\n",
    "orog = np.zeros((nx, ny))    # no orography\n",
    "\n",
    "(u_save, v_save, h_save, t_save, H, x, y) = run_model_ic(\n",
    "                                            h_ic = h0,\n",
    "                                            u_ic = u0,\n",
    "                                            v_ic = v0,\n",
    "                                            orog = orog,\n",
    "#                                            f0 = 0,\n",
    "#                                            beta = beta,\n",
    "                                            dx = dx,\n",
    "                                            dy = dy,\n",
    "                                            nx = nx,\n",
    "                                            ny = ny,\n",
    "                                            dt_mins=0.1,\n",
    "                                            add_random_height_noise = False,\n",
    "                                            forecast_length_days = 0.2,\n",
    "                                            output_interval_mins = 10)"
   ]
  },
  {
   "cell_type": "markdown",
   "id": "05761a71-b0cc-4a65-9efe-aa0ff6ba58e9",
   "metadata": {},
   "source": [
    "Plot the first output time"
   ]
  },
  {
   "cell_type": "code",
   "execution_count": null,
   "id": "0db168ae-93fc-419e-b301-0e16a47c6386",
   "metadata": {
    "tags": []
   },
   "outputs": [],
   "source": [
    "make_plot(out=0, vort1=-3e-5, vort2=3e-5)"
   ]
  },
  {
   "cell_type": "markdown",
   "id": "4c5ed242-312a-4bcf-80b8-df0c82f4b01d",
   "metadata": {},
   "source": [
    "Plot the last output time"
   ]
  },
  {
   "cell_type": "code",
   "execution_count": null,
   "id": "34de9b3f-89ee-44da-a43f-2800cd53d416",
   "metadata": {
    "tags": []
   },
   "outputs": [],
   "source": [
    "make_plot(out=-1, vort1=-3e-5, vort2=3e-5)"
   ]
  },
  {
   "cell_type": "markdown",
   "id": "5507ee20-a5fe-49aa-93d5-520e72adc5ad",
   "metadata": {},
   "source": [
    "Save an animation file:"
   ]
  },
  {
   "cell_type": "code",
   "execution_count": null,
   "id": "a3424124-4d30-48bc-9bd1-149333ede0fb",
   "metadata": {
    "tags": []
   },
   "outputs": [],
   "source": [
    "make_animation_file(outfile='umass_lowell.gif', vort1=-3e-5, vort2=3e-5, duration=100)"
   ]
  },
  {
   "cell_type": "markdown",
   "id": "6a5a082f-a383-4845-bdd1-9f9229440051",
   "metadata": {},
   "source": [
    "Make an inline animation:"
   ]
  },
  {
   "cell_type": "code",
   "execution_count": null,
   "id": "29cf8428-616c-4d67-bcac-e608564dbd6f",
   "metadata": {},
   "outputs": [],
   "source": [
    "make_inline_animation()"
   ]
  },
  {
   "cell_type": "markdown",
   "id": "c7172b87-7c51-4d11-84d8-75e2f587ea64",
   "metadata": {},
   "source": [
    "### 8. To Do"
   ]
  },
  {
   "cell_type": "markdown",
   "id": "88b92f61-a6c6-4188-9f24-f1a9a4f48f88",
   "metadata": {},
   "source": [
    "code: rankine vortex, forcing and drag for Gill experiment, two-layer version, add lateral sponge, improve handling of chanel boundaries, nonlinear balance i.c., vortex filament case\n",
    "\n",
    "graphics: improve visibility of vectors, make plotting routines more flexible\n",
    "\n",
    "documentation: moar"
   ]
  }
 ],
 "metadata": {
  "kernelspec": {
   "display_name": "Python 3 (ipykernel)",
   "language": "python",
   "name": "python3"
  },
  "language_info": {
   "codemirror_mode": {
    "name": "ipython",
    "version": 3
   },
   "file_extension": ".py",
   "mimetype": "text/x-python",
   "name": "python",
   "nbconvert_exporter": "python",
   "pygments_lexer": "ipython3",
   "version": "3.11.5"
  }
 },
 "nbformat": 4,
 "nbformat_minor": 5
}
